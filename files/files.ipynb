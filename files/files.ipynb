{
 "cells": [
  {
   "cell_type": "markdown",
   "metadata": {},
   "source": [
    "# Looking inside files\n",
    "\n",
    "A common task is to look at the contents of a file. This can be achieved using several diffrent Unix commands, `less`, `head` and `tail`. Let us consider some examples."
   ]
  },
  {
   "cell_type": "markdown",
   "metadata": {},
   "source": [
    "## less\n",
    "\n",
    "The `less` command displays the contents of a specified file one screen at a time. To test this command, open a terminal window on the computer and type the following command followed by the enter key."
   ]
  },
  {
   "cell_type": "markdown",
   "metadata": {
    "collapsed": false
   },
   "source": [
    "`less Styphi.gff`"
   ]
  },
  {
   "cell_type": "markdown",
   "metadata": {},
   "source": [
    "The contents of the file Styphi.gff is displayed one screen at a time, to view the next screen press the space bar. As Styphi.gff is a large file this will take a while, therefore you may want to escape or exit from this command. To do this, press the q key, this kills the `less` command, and returns you to the Unix prompt. `less` can also scroll backwards if you hit the `b` key. Another useful feature is the slash key, `/`, to search for an expression in the file. Try it, search for the gene with locus tag t0038. What is the start and end position of this gene?"
   ]
  },
  {
   "cell_type": "markdown",
   "metadata": {},
   "source": [
    "## head and tail\n",
    "\n",
    "Sometimes you may just want to view the text at the beginning or the end of a file, without having to display all of the file. The `head` and `tail` commands can be used to do this."
   ]
  },
  {
   "cell_type": "markdown",
   "metadata": {},
   "source": [
    "The `head` command displays the first ten lines of a file.\n",
    "\n",
    "To look at the beginning of the fie Styphi.gff file use:"
   ]
  },
  {
   "cell_type": "code",
   "execution_count": null,
   "metadata": {
    "collapsed": false
   },
   "outputs": [],
   "source": [
    "head Styphi.gff"
   ]
  },
  {
   "cell_type": "markdown",
   "metadata": {},
   "source": [
    "The `tail` command displays the last ten lines of a file.\n",
    "\n",
    "To look at the end of Styphi.gff use:"
   ]
  },
  {
   "cell_type": "code",
   "execution_count": null,
   "metadata": {
    "collapsed": false
   },
   "outputs": [],
   "source": [
    "tail Styphi.gff"
   ]
  },
  {
   "cell_type": "markdown",
   "metadata": {},
   "source": [
    "The amount of the file that is displayed can be increased by adding extra arguments. To increase the number of lines viewed from 10 to 25 add the –25 argument to the command: "
   ]
  },
  {
   "cell_type": "code",
   "execution_count": null,
   "metadata": {
    "collapsed": false
   },
   "outputs": [],
   "source": [
    "tail -25 Styphi.gff"
   ]
  },
  {
   "cell_type": "markdown",
   "metadata": {},
   "source": [
    "## Saving time\n",
    "\n",
    "Saving time while typing may not seem important, but the longer that you spend in front of a computer, the happier you will be if you can reduce the time you spend at the keyboard.\n",
    "\n",
    "* Pressing the up/down arrows will let you scroll through previous commands entered. \n",
    "\n",
    "* If you highlight some text, middle clicking on the mouse will paste it on the command line.\n",
    "\n",
    "* One of the best Unix tips you can learn early on is that you can use tab to complete the names of programs and files on most Unix systems. Type enough letters to uniquely identify the name of a file, directory or command and press tab. Unix will do the rest. Try it..."
   ]
  },
  {
   "cell_type": "code",
   "execution_count": null,
   "metadata": {
    "collapsed": false,
    "scrolled": true
   },
   "outputs": [],
   "source": [
    "fin"
   ]
  },
  {
   "cell_type": "markdown",
   "metadata": {},
   "source": [
    "## Getting help man\n",
    "\n",
    "To obtain further information on any of the Unix commands introduced in this tutorial you can use the man command. For example, to get a full description and examples of how to use the sort command use the following command in a terminal window."
   ]
  },
  {
   "cell_type": "code",
   "execution_count": null,
   "metadata": {
    "collapsed": false
   },
   "outputs": [],
   "source": [
    "man tail"
   ]
  },
  {
   "cell_type": "markdown",
   "metadata": {},
   "source": [
    "## Manipulating files\n",
    "\n",
    "There are several other useful commands that can be used to mananipulate and summarise information inside files and we will introduce some of these next, `cat`, `sort`, `wc` and `uniq`."
   ]
  },
  {
   "cell_type": "markdown",
   "metadata": {},
   "source": [
    "## cat\n",
    "\n",
    "The `cat` command joins files together. \n",
    "\n",
    "Having looked at the beginning and end of the Styphi.gff file you should notice that in GFF files the annotation comes first, then the DNA sequence at the end. If you had two separate files containing the annotation and the DNA sequence, it is possible to concatenate or join the two together to make a single file like the Styphi.gff file you have just looked at. The command `cat` can be used to join two or more files into a single file. The order in which the files are joined is determined by the order in which they appear in the command line. \n",
    "\n",
    "For example, we have two separate files, Styphi.noseq.gff and Styphi.fa, that contain the annotation and DNA sequence, respectively for the Salmonella typhi CT18 genome. To join together these files use:"
   ]
  },
  {
   "cell_type": "code",
   "execution_count": null,
   "metadata": {
    "collapsed": false
   },
   "outputs": [],
   "source": [
    "cat Styphi.noseq.gff Styphi.fa > Styphi.concatenated.gff"
   ]
  },
  {
   "cell_type": "markdown",
   "metadata": {},
   "source": [
    "The files Styphi.noseq.gff and Styphi.fa will be joined together and written to a file called Styphi.concatenated.gff.\n",
    "\n",
    "The `>` symbol in the command line directs the output of the cat program to the designated file Styphi.concatenated.gff. Use the command `ls` to check for the precence of this file."
   ]
  },
  {
   "cell_type": "code",
   "execution_count": null,
   "metadata": {
    "collapsed": false
   },
   "outputs": [],
   "source": [
    "ls"
   ]
  },
  {
   "cell_type": "markdown",
   "metadata": {},
   "source": [
    "## wc - counting\n",
    "\n",
    "The command `wc` counts lines, words or characters."
   ]
  },
  {
   "cell_type": "markdown",
   "metadata": {},
   "source": [
    "To count the number of files that are listed by `ls` use:"
   ]
  },
  {
   "cell_type": "code",
   "execution_count": null,
   "metadata": {
    "collapsed": false
   },
   "outputs": [],
   "source": [
    "ls | wc -l"
   ]
  },
  {
   "cell_type": "markdown",
   "metadata": {},
   "source": [
    "The `|` symbol above also known as the pipe symbol, connects the two commands into a single operation for simplicity. We say that the output from the first command is piped to and used as input to the second command.\n",
    "\n",
    "You can connect as many commands as you want. For example:"
   ]
  },
  {
   "cell_type": "code",
   "execution_count": null,
   "metadata": {
    "collapsed": false
   },
   "outputs": [],
   "source": [
    "ls | grep \".gff\" | wc -l"
   ]
  },
  {
   "cell_type": "markdown",
   "metadata": {},
   "source": [
    "What does this command do? You will learn more about the grep command later in this course."
   ]
  },
  {
   "cell_type": "markdown",
   "metadata": {},
   "source": [
    "## sort - sorting values\n",
    "\n",
    "The `sort` lets you sort the contents of the input. When you sort the input, lines with identical content end up next to each other in the output. This is useful as the output can then be fed to the `uniq` command (see below) to count the number of unique lines in the input."
   ]
  },
  {
   "cell_type": "markdown",
   "metadata": {},
   "source": [
    "To sort the contents of the BED file use:"
   ]
  },
  {
   "cell_type": "code",
   "execution_count": null,
   "metadata": {
    "collapsed": false
   },
   "outputs": [],
   "source": [
    "sort Pfalciparum.bed"
   ]
  },
  {
   "cell_type": "markdown",
   "metadata": {},
   "source": [
    "To sort the contents of the BED file on position type the following command."
   ]
  },
  {
   "cell_type": "code",
   "execution_count": null,
   "metadata": {
    "collapsed": false
   },
   "outputs": [],
   "source": [
    "sort -k 2 -n Pfalciparum.bed"
   ]
  },
  {
   "cell_type": "markdown",
   "metadata": {},
   "source": [
    "The `sort` command can sort by multiple columns e.g. 1st column and then 2nd column by specifying successive -k parameters in the command."
   ]
  },
  {
   "cell_type": "markdown",
   "metadata": {},
   "source": [
    "## uniq - finding unique values\n",
    "\n",
    "The `uniq` command extracts unique lines from the input. It is usualy used in combination with sort to count unique values in the input."
   ]
  },
  {
   "cell_type": "markdown",
   "metadata": {},
   "source": [
    "To get the list of chromosomes in the Pfalciaprum bed file use:"
   ]
  },
  {
   "cell_type": "code",
   "execution_count": null,
   "metadata": {
    "collapsed": false
   },
   "outputs": [],
   "source": [
    "awk '{ print $1 }' Pfalciparum.bed | sort | uniq"
   ]
  },
  {
   "cell_type": "markdown",
   "metadata": {},
   "source": [
    "How many chromosomes are there? You will learn more about the awk command later in this tutorial."
   ]
  },
  {
   "cell_type": "markdown",
   "metadata": {},
   "source": [
    "## Exercises\n",
    "\n",
    "Open up a new terminal window, navigate to the `Unix` directory and complete the following exercises:\n",
    "\n",
    "1. Use the `head` command to extract the first 500 lines of the S.typhi gff file and store the output in a new file called Styphi.500.gff\n",
    "2. Use the `wc` command to count the number of lines in the `Pfalciparum.bed` file.\n",
    "3. Use the `sort` command to sort the file Pfalciparum.bed on chromosome and then gene position.\n",
    "4. Use the `uniq` command to count the number of features per chromosome in the `Pfalciparum bed` file. Hint: use the man command to look at the options for the uniq command. Or peruse the `wc` or `grep` manuals. There’s more than one way to do it!"
   ]
  }
 ],
 "metadata": {
  "kernelspec": {
   "display_name": "Bash",
   "language": "bash",
   "name": "bash"
  },
  "language_info": {
   "codemirror_mode": "shell",
   "file_extension": ".sh",
   "mimetype": "text/x-sh",
   "name": "bash"
  }
 },
 "nbformat": 4,
 "nbformat_minor": 0
}
