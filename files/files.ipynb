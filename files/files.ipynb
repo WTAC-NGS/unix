{
 "cells": [
  {
   "cell_type": "markdown",
   "metadata": {},
   "source": [
    "# Looking inside files\n",
    "\n",
    "A common task is to look at the contents of a file. This can be achieved using several diffrent the Unix commands, `less`, `cat`, `head` and `tail`. Let us consider some examples."
   ]
  },
  {
   "cell_type": "markdown",
   "metadata": {},
   "source": [
    "## less\n",
    "\n",
    "The `less` command displays the contents of a specified file one screen at a time. To look at the contents of the file S_typhi.embl use :"
   ]
  },
  {
   "cell_type": "code",
   "execution_count": 6,
   "metadata": {
    "collapsed": false
   },
   "outputs": [
    {
     "name": "stdout",
     "output_type": "stream",
     "text": [
      "S_typhi.embl: No such file or directory\r\n"
     ]
    }
   ],
   "source": [
    "less S_typhi.embl"
   ]
  },
  {
   "cell_type": "markdown",
   "metadata": {},
   "source": [
    "The contents of the file S_typhi.embl is displayed one screen at a time, to view the next screen press the space bar. The percentage of the file that has been viewed so far will be displayed at the bottom of the screen. As S_typhi.embl is a large file this will take a while, therefore you may want to escape or exit from this command. To do this, press the control and c keys simultaneously, this kills the `less` command, and returns you to the Unix prompt. `less` can also scroll backwards if you hit the `b` key. Another useful feature is the slash key, `/`, to search for an expression in the file."
   ]
  },
  {
   "cell_type": "markdown",
   "metadata": {},
   "source": [
    "## head and tail\n",
    "\n",
    "Sometimes you may just want to view the text at the beginning or the end of a file, without having to display all of the file. The `head` and `tail` commands can be used to do this."
   ]
  },
  {
   "cell_type": "markdown",
   "metadata": {},
   "source": [
    "The `head` command displays the first ten lines of a file.\n",
    "\n",
    "To look at the beginning of the fie S_typhi.embl use:"
   ]
  },
  {
   "cell_type": "code",
   "execution_count": 4,
   "metadata": {
    "collapsed": false
   },
   "outputs": [
    {
     "name": "stdout",
     "output_type": "stream",
     "text": [
      "head: S_typhi.embl: No such file or directory\r\n"
     ]
    }
   ],
   "source": [
    "head S_typhi.embl"
   ]
  },
  {
   "cell_type": "markdown",
   "metadata": {},
   "source": [
    "The `tail` command displays the last ten lines of a file.\n",
    "\n",
    "To look at the end of S_typhi.embl use:"
   ]
  },
  {
   "cell_type": "code",
   "execution_count": 1,
   "metadata": {
    "collapsed": false
   },
   "outputs": [
    {
     "name": "stdout",
     "output_type": "stream",
     "text": [
      "tail: S_typhi.embl: No such file or directory\r\n"
     ]
    }
   ],
   "source": [
    "tail S_typhi.embl"
   ]
  },
  {
   "cell_type": "markdown",
   "metadata": {},
   "source": [
    "The amount of the file that is displayed can be increased by adding extra arguments. To increase the number of lines viewed from 10 to 100 add the –100 argument to the command: "
   ]
  },
  {
   "cell_type": "code",
   "execution_count": 9,
   "metadata": {
    "collapsed": false
   },
   "outputs": [
    {
     "name": "stdout",
     "output_type": "stream",
     "text": [
      "tail: S_typhi.embl: No such file or directory\r\n"
     ]
    }
   ],
   "source": [
    "tail -100 S_typhi.embl"
   ]
  },
  {
   "cell_type": "markdown",
   "metadata": {},
   "source": [
    "## cat\n",
    "\n",
    "The `cat` command joins files together. \n",
    "\n",
    "Having looked at the beginning and end of the S_typhi.embl file you should notice that in EMBL files the annotation comes first, then the DNA sequence at the end. If you had two separate files containing the annotation and the DNA sequence, both in EMBL format, it is possible to concatenate or join the two together to make a single file like the S_typhi.embl file you have just looked at. The command `cat` can be used to join two or more files into a single file. The order in which the files are joined is determined by the order in which they appear in the command line. \n",
    "\n",
    "For example, we have two separate files, MAL13P1.dna and MAL13P1.tab, that contain the DNA and annotation, respectively, from the P. falciparum genome. To join together these files use:"
   ]
  },
  {
   "cell_type": "code",
   "execution_count": 3,
   "metadata": {
    "collapsed": false
   },
   "outputs": [
    {
     "name": "stdout",
     "output_type": "stream",
     "text": [
      "cat: MAL13P1.tab: No such file or directory\r\n",
      "cat: MAL13P1.dna: No such file or directory\r\n"
     ]
    }
   ],
   "source": [
    "cat MAL13P1.tab MAL13P1.dna > MAL13P1.embl"
   ]
  },
  {
   "cell_type": "markdown",
   "metadata": {},
   "source": [
    "The files MAL13P1.tab and MAL13P1.dna will be joined together and written to a file called MAL13P1.embl.\n",
    "\n",
    "The `>` symbol in the command line directs the output of the cat program to the designated file MAL13P1.embl"
   ]
  },
  {
   "cell_type": "markdown",
   "metadata": {},
   "source": [
    "## Saving time\n",
    "\n",
    "Saving time while typing may not seem important, but the longer that you spend in front of a computer, the happier you will be if you can reduce the time you spend at the keyboard.\n",
    "\n",
    "* Pressing the up/down arrows will let you scroll through the previous commands. \n",
    "\n",
    "* If you highlight some text, middle clicking will paste it on the command line\n",
    "\n",
    "* One of the best Unix tips you can learn early on is that you can use tab to complete the names of programs and files on most Unix systems. Type enough letters to uniquely identify the name of a file, directory or command and press tab. Unix will do the rest..."
   ]
  },
  {
   "cell_type": "code",
   "execution_count": 3,
   "metadata": {
    "collapsed": false
   },
   "outputs": [
    {
     "name": "stdout",
     "output_type": "stream",
     "text": [
      "bash: fin: command not found\r\n"
     ]
    }
   ],
   "source": [
    "fin"
   ]
  },
  {
   "cell_type": "markdown",
   "metadata": {},
   "source": [
    "## Redirects and pipes\n",
    "\n",
    "Multiple Unix commands can be combined together to do very powerful things."
   ]
  },
  {
   "cell_type": "markdown",
   "metadata": {},
   "source": [
    "## other commands\n",
    "\n",
    "some intro for the following commands"
   ]
  },
  {
   "cell_type": "markdown",
   "metadata": {},
   "source": [
    "## wc - counting\n",
    "\n",
    "The command `wc` counts lines, words or characters."
   ]
  },
  {
   "cell_type": "markdown",
   "metadata": {},
   "source": [
    "To count the number of files that are listed by `ls` use:"
   ]
  },
  {
   "cell_type": "code",
   "execution_count": null,
   "metadata": {
    "collapsed": true
   },
   "outputs": [],
   "source": [
    "ls | wc -l"
   ]
  },
  {
   "cell_type": "markdown",
   "metadata": {},
   "source": [
    "The `|` symbol above also know as the pipe symbol, connects the two commands into a single operation for simplicity. We say that the output from the first command is piped to and used as input the second command.\n",
    "\n",
    "You can connect as many commands as you want. For example:"
   ]
  },
  {
   "cell_type": "code",
   "execution_count": null,
   "metadata": {
    "collapsed": true
   },
   "outputs": [],
   "source": [
    "ls | grep \".embl\" | wc -l"
   ]
  },
  {
   "cell_type": "markdown",
   "metadata": {},
   "source": [
    "What does this command do?"
   ]
  },
  {
   "cell_type": "markdown",
   "metadata": {},
   "source": [
    "## sort - sorting values\n",
    "\n",
    "The `sort` lets you sort the contents of the input. When you sort the input, lines with identical content end up next to each other in the output, which can then be fed to the `uniq` command (see below) to count the number of unique lines in the input."
   ]
  },
  {
   "cell_type": "markdown",
   "metadata": {},
   "source": [
    "To sort the contents of the BED file use:"
   ]
  },
  {
   "cell_type": "code",
   "execution_count": null,
   "metadata": {
    "collapsed": true
   },
   "outputs": [],
   "source": [
    "sort Pfalciparum.bes"
   ]
  },
  {
   "cell_type": "markdown",
   "metadata": {},
   "source": [
    "To sort the contents of the BED file on position type the following command."
   ]
  },
  {
   "cell_type": "code",
   "execution_count": null,
   "metadata": {
    "collapsed": true
   },
   "outputs": [],
   "source": [
    "sort -k 2 -n Pfalciparum.bed"
   ]
  },
  {
   "cell_type": "markdown",
   "metadata": {},
   "source": [
    "The `sort` command can sort by multiple columns e.g. 1st column and then 2nd column by specifying successive -k parameters in the command."
   ]
  },
  {
   "cell_type": "markdown",
   "metadata": {},
   "source": [
    "## uniq - finding unique values\n",
    "\n",
    "The `uniq` cmmand extracts unique lines from the input. It is usualy used in combination with sort to count unique values in the input."
   ]
  },
  {
   "cell_type": "markdown",
   "metadata": {},
   "source": [
    "To get the list of chromosomes in the BED file use:"
   ]
  },
  {
   "cell_type": "code",
   "execution_count": null,
   "metadata": {
    "collapsed": true
   },
   "outputs": [],
   "source": [
    "awk ’{ print $1 }’ Pfalciparum.bed | sort | uniq"
   ]
  },
  {
   "cell_type": "markdown",
   "metadata": {},
   "source": [
    "How many chromosomes are there?"
   ]
  },
  {
   "cell_type": "markdown",
   "metadata": {},
   "source": [
    "Now modify the previous command to count the number of features per chromosome. How many of these are repeated?\n",
    "Hint: use the man command to look at the options for the uniq command. Or peruse the wc or grep manuals. There’s more than one way to do it!"
   ]
  },
  {
   "cell_type": "code",
   "execution_count": null,
   "metadata": {
    "collapsed": true
   },
   "outputs": [],
   "source": []
  },
  {
   "cell_type": "markdown",
   "metadata": {},
   "source": [
    "## Getting help man\n",
    "\n",
    "To obtain further information on any of the Unix commands introduced in this tutorial you can use the man command. For example, to get a full description and examples of how to use the sort command use the following command in a terminal window."
   ]
  },
  {
   "cell_type": "code",
   "execution_count": 4,
   "metadata": {
    "collapsed": false
   },
   "outputs": [
    {
     "name": "stdout",
     "output_type": "stream",
     "text": [
      "SORT(1)                          User Commands                         SORT(1)\r\n",
      "\r\n",
      "\r\n",
      "\r\n",
      "N\bNA\bAM\bME\bE\r\n",
      "       sort - sort lines of text files\r\n",
      "\r\n",
      "S\bSY\bYN\bNO\bOP\bPS\bSI\bIS\bS\r\n",
      "       s\bso\bor\brt\bt [_\bO_\bP_\bT_\bI_\bO_\bN]... [_\bF_\bI_\bL_\bE]...\r\n",
      "\r\n",
      "D\bDE\bES\bSC\bCR\bRI\bIP\bPT\bTI\bIO\bON\bN\r\n",
      "       Write sorted concatenation of all FILE(s) to standard output.\r\n",
      "\r\n",
      "       Mandatory  arguments  to  long  options are mandatory for short options\r\n",
      "       too.  Ordering options:\r\n",
      "\r\n",
      "       -\b-b\bb, -\b--\b-i\big\bgn\bno\bor\bre\be-\b-l\ble\bea\bad\bdi\bin\bng\bg-\b-b\bbl\bla\ban\bnk\bks\bs\r\n",
      "              ignore leading blanks\r\n",
      "\r\n",
      "       -\b-d\bd, -\b--\b-d\bdi\bic\bct\bti\bio\bon\bna\bar\bry\by-\b-o\bor\brd\bde\ber\br\r\n",
      "              consider only blanks and alphanumeric characters\r\n",
      "\r\n",
      "       -\b-f\bf, -\b--\b-i\big\bgn\bno\bor\bre\be-\b-c\bca\bas\bse\be\r\n",
      "              fold lower case to upper case characters\r\n",
      "\r\n",
      "       -\b-g\bg, -\b--\b-g\bge\ben\bne\ber\bra\bal\bl-\b-n\bnu\bum\bme\ber\bri\bic\bc-\b-s\bso\bor\brt\bt\r\n",
      "              compare according to general numerical value\r\n",
      "\r\n",
      "       -\b-i\bi, -\b--\b-i\big\bgn\bno\bor\bre\be-\b-n\bno\bon\bnp\bpr\bri\bin\bnt\bti\bin\bng\bg\r\n",
      "              consider only printable characters\r\n",
      "\r\n",
      "       -\b-M\bM, -\b--\b-m\bmo\bon\bnt\bth\bh-\b-s\bso\bor\brt\bt\r\n",
      "              compare (unknown) < `JAN' < ... < `DEC'\r\n",
      "\r\n",
      "       -\b-n\bn, -\b--\b-n\bnu\bum\bme\ber\bri\bic\bc-\b-s\bso\bor\brt\bt\r\n",
      "              compare according to string numerical value\r\n",
      "\r\n",
      "       -\b-r\br, -\b--\b-r\bre\bev\bve\ber\brs\bse\be\r\n",
      "              reverse the result of comparisons\r\n",
      "\r\n",
      "       Other options:\r\n",
      "\r\n",
      "       -\b-c\bc, -\b--\b-c\bch\bhe\bec\bck\bk\r\n",
      "              check whether input is sorted; do not sort\r\n",
      "\r\n",
      "       -\b-k\bk, -\b--\b-k\bke\bey\by=_\bP_\bO_\bS_\b1_\b[,POS2]\r\n",
      "              start a key at POS1, end it at POS2 (origin 1)\r\n",
      "\r\n",
      "       -\b-m\bm, -\b--\b-m\bme\ber\brg\bge\be\r\n",
      "              merge already sorted files; do not sort\r\n",
      "\r\n",
      "       -\b-o\bo, -\b--\b-o\bou\but\btp\bpu\but\bt=_\bF_\bI_\bL_\bE\r\n",
      "              write result to FILE instead of standard output\r\n",
      "\r\n",
      "       -\b-s\bs, -\b--\b-s\bst\bta\bab\bbl\ble\be\r\n",
      "              stabilize sort by disabling last-resort comparison\r\n",
      "\r\n",
      "       -\b-S\bS, -\b--\b-b\bbu\buf\bff\bfe\ber\br-\b-s\bsi\biz\bze\be=_\bS_\bI_\bZ_\bE\r\n",
      "              use SIZE for main memory buffer\r\n",
      "\r\n",
      "       -\b-t\bt, -\b--\b-f\bfi\bie\bel\bld\bd-\b-s\bse\bep\bpa\bar\bra\bat\bto\bor\br=_\bS_\bE_\bP\r\n",
      "              use SEP instead of non-blank to blank transition\r\n",
      "\r\n",
      "       -\b-T\bT, -\b--\b-t\bte\bem\bmp\bpo\bor\bra\bar\bry\by-\b-d\bdi\bir\bre\bec\bct\bto\bor\bry\by=_\bD_\bI_\bR\r\n",
      "              use DIR for temporaries, not $TMPDIR or /tmp;  multiple  options\r\n",
      "              specify multiple directories\r\n",
      "\r\n",
      "       -\b-u\bu, -\b--\b-u\bun\bni\biq\bqu\bue\be\r\n",
      "              with  -\b-c\bc, check for strict ordering; without -\b-c\bc, output only the\r\n",
      "              first of an equal run\r\n",
      "\r\n",
      "       -\b-z\bz, -\b--\b-z\bze\ber\bro\bo-\b-t\bte\ber\brm\bmi\bin\bna\bat\bte\bed\bd\r\n",
      "              end lines with 0 byte, not newline\r\n",
      "\r\n",
      "       -\b--\b-h\bhe\bel\blp\bp display this help and exit\r\n",
      "\r\n",
      "       -\b--\b-v\bve\ber\brs\bsi\bio\bon\bn\r\n",
      "              output version information and exit\r\n",
      "\r\n",
      "       POS is F[.C][OPTS], where F is the field number  and  C  the  character\r\n",
      "       position  in  the  field.   OPTS  is one or more single-letter ordering\r\n",
      "       options, which override global ordering options for that  key.   If  no\r\n",
      "       key is given, use the entire line as the key.\r\n",
      "\r\n",
      "       SIZE  may be followed by the following multiplicative suffixes: % 1% of\r\n",
      "       memory, b 1, K 1024 (default), and so on for M, G, T, P, E, Z, Y.\r\n",
      "\r\n",
      "       With no FILE, or when FILE is -, read standard input.\r\n",
      "\r\n",
      "       *** WARNING *** The locale specified by the  environment  affects  sort\r\n",
      "       order.  Set LC_ALL=C to get the traditional sort order that uses native\r\n",
      "       byte values.\r\n",
      "\r\n",
      "A\bAU\bUT\bTH\bHO\bOR\bR\r\n",
      "       Written by Mike Haertel and Paul Eggert.\r\n",
      "\r\n",
      "R\bRE\bEP\bPO\bOR\bRT\bTI\bIN\bNG\bG B\bBU\bUG\bGS\bS\r\n",
      "       Report bugs to <bug-coreutils@gnu.org>.\r\n",
      "\r\n",
      "C\bCO\bOP\bPY\bYR\bRI\bIG\bGH\bHT\bT\r\n",
      "       Copyright (C) 2005 Free Software Foundation, Inc.\r\n",
      "       This is free software.  You may redistribute copies  of  it  under  the\r\n",
      "       terms       of       the      GNU      General      Public      License\r\n",
      "       <http://www.gnu.org/licenses/gpl.html>.  There is NO WARRANTY,  to  the\r\n",
      "       extent permitted by law.\r\n",
      "\r\n",
      "S\bSE\bEE\bE A\bAL\bLS\bSO\bO\r\n",
      "       The  full documentation for s\bso\bor\brt\bt is maintained as a Texinfo manual.  If\r\n",
      "       the i\bin\bnf\bfo\bo and s\bso\bor\brt\bt programs are properly installed  at  your  site,  the\r\n",
      "       command\r\n",
      "\r\n",
      "              i\bin\bnf\bfo\bo s\bso\bor\brt\bt\r\n",
      "\r\n",
      "       should give you access to the complete manual.\r\n",
      "\r\n",
      "\r\n",
      "\r\n",
      "sort 5.93                        November 2005                         SORT(1)\r\n"
     ]
    }
   ],
   "source": [
    "man sort"
   ]
  },
  {
   "cell_type": "markdown",
   "metadata": {},
   "source": [
    "## Exercises\n",
    "\n",
    "The following exercises ... Open up another terminal window.\n",
    "\n",
    "1. head/tail command\n",
    "2. cat command\n",
    "3. Use the sort command to sort the Bed file X on chromosome and then gene position\n",
    "4. Use the uniq command to count the number of features per chromosome in the bed file\n",
    "5. Exercise with pipes"
   ]
  }
 ],
 "metadata": {
  "kernelspec": {
   "display_name": "Bash",
   "language": "bash",
   "name": "bash"
  },
  "language_info": {
   "codemirror_mode": "shell",
   "file_extension": ".sh",
   "mimetype": "text/x-sh",
   "name": "bash"
  }
 },
 "nbformat": 4,
 "nbformat_minor": 0
}
