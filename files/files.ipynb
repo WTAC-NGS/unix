{
 "cells": [
  {
   "cell_type": "markdown",
   "metadata": {},
   "source": [
    "# Looking inside files\n",
    "\n",
    "A common task is to look at the contents of a file. This can be achieved using several diffrent the Unix commands, `less`, `cat`, `head` and `tail`. Let us consider some examples."
   ]
  },
  {
   "cell_type": "markdown",
   "metadata": {},
   "source": [
    "## less\n",
    "\n",
    "The `less` command displays the contents of a specified file one screen at a time. To look at the contents of the file S_typhi.embl use :"
   ]
  },
  {
   "cell_type": "code",
   "execution_count": null,
   "metadata": {
    "collapsed": false
   },
   "outputs": [],
   "source": [
    "less S_typhi.embl"
   ]
  },
  {
   "cell_type": "markdown",
   "metadata": {},
   "source": [
    "The contents of the file S_typhi.embl is displayed one screen at a time, to view the next screen press the space bar. The percentage of the file that has been viewed so far will be displayed at the bottom of the screen. As S_typhi.embl is a large file this will take a while, therefore you may want to escape or exit from this command. To do this, press the control and c keys simultaneously, this kills the `less` command, and returns you to the Unix prompt. `less` can also scroll backwards if you hit the `b` key. Another useful feature is the slash key, `/`, to search for an expression in the file."
   ]
  },
  {
   "cell_type": "markdown",
   "metadata": {},
   "source": [
    "## head and tail\n",
    "\n",
    "Sometimes you may just want to view the text at the beginning or the end of a file, without having to display all of the file. The `head` and `tail` commands can be used to do this."
   ]
  },
  {
   "cell_type": "markdown",
   "metadata": {},
   "source": [
    "The `head` command displays the first ten lines of a file.\n",
    "\n",
    "To look at the beginning of the fie S_typhi.embl use:"
   ]
  },
  {
   "cell_type": "code",
   "execution_count": null,
   "metadata": {
    "collapsed": false
   },
   "outputs": [],
   "source": [
    "head S_typhi.embl"
   ]
  },
  {
   "cell_type": "markdown",
   "metadata": {},
   "source": [
    "The `tail` command displays the last ten lines of a file.\n",
    "\n",
    "To look at the end of S_typhi.embl use:"
   ]
  },
  {
   "cell_type": "code",
   "execution_count": null,
   "metadata": {
    "collapsed": false
   },
   "outputs": [],
   "source": [
    "tail S_typhi.embl"
   ]
  },
  {
   "cell_type": "markdown",
   "metadata": {},
   "source": [
    "The amount of the file that is displayed can be increased by adding extra arguments. To increase the number of lines viewed from 10 to 100 add the –100 argument to the command: "
   ]
  },
  {
   "cell_type": "code",
   "execution_count": null,
   "metadata": {
    "collapsed": false
   },
   "outputs": [],
   "source": [
    "tail -100 S_typhi.embl"
   ]
  },
  {
   "cell_type": "markdown",
   "metadata": {},
   "source": [
    "## cat\n",
    "\n",
    "The `cat` command joins files together. \n",
    "\n",
    "Having looked at the beginning and end of the S_typhi.embl file you should notice that in EMBL files the annotation comes first, then the DNA sequence at the end. If you had two separate files containing the annotation and the DNA sequence, both in EMBL format, it is possible to concatenate or join the two together to make a single file like the S_typhi.embl file you have just looked at. The command `cat` can be used to join two or more files into a single file. The order in which the files are joined is determined by the order in which they appear in the command line. \n",
    "\n",
    "For example, we have two separate files, MAL13P1.dna and MAL13P1.tab, that contain the DNA and annotation, respectively, from the P. falciparum genome. To join together these files use:"
   ]
  },
  {
   "cell_type": "code",
   "execution_count": null,
   "metadata": {
    "collapsed": false
   },
   "outputs": [],
   "source": [
    "cat MAL13P1.tab MAL13P1.dna > MAL13P1.embl"
   ]
  },
  {
   "cell_type": "markdown",
   "metadata": {},
   "source": [
    "The files MAL13P1.tab and MAL13P1.dna will be joined together and written to a file called MAL13P1.embl.\n",
    "\n",
    "The `>` symbol in the command line directs the output of the cat program to the designated file MAL13P1.embl"
   ]
  },
  {
   "cell_type": "markdown",
   "metadata": {},
   "source": [
    "## Saving time\n",
    "\n",
    "Saving time while typing may not seem important, but the longer that you spend in front of a computer, the happier you will be if you can reduce the time you spend at the keyboard.\n",
    "\n",
    "* Pressing the up/down arrows will let you scroll through the previous commands. \n",
    "\n",
    "* If you highlight some text, middle clicking will paste it on the command line\n",
    "\n",
    "* One of the best Unix tips you can learn early on is that you can use tab to complete the names of programs and files on most Unix systems. Type enough letters to uniquely identify the name of a file, directory or command and press tab. Unix will do the rest..."
   ]
  },
  {
   "cell_type": "code",
   "execution_count": null,
   "metadata": {
    "collapsed": false
   },
   "outputs": [],
   "source": [
    "fin"
   ]
  },
  {
   "cell_type": "markdown",
   "metadata": {},
   "source": [
    "## Redirects and pipes\n",
    "\n",
    "Multiple Unix commands can be combined together to do very powerful things."
   ]
  },
  {
   "cell_type": "markdown",
   "metadata": {},
   "source": [
    "## other commands\n",
    "\n",
    "some intro for the following commands"
   ]
  },
  {
   "cell_type": "markdown",
   "metadata": {},
   "source": [
    "## wc - counting\n",
    "\n",
    "The command `wc` counts lines, words or characters."
   ]
  },
  {
   "cell_type": "markdown",
   "metadata": {},
   "source": [
    "To count the number of files that are listed by `ls` use:"
   ]
  },
  {
   "cell_type": "code",
   "execution_count": null,
   "metadata": {
    "collapsed": true
   },
   "outputs": [],
   "source": [
    "ls | wc -l"
   ]
  },
  {
   "cell_type": "markdown",
   "metadata": {},
   "source": [
    "The `|` symbol above also know as the pipe symbol, connects the two commands into a single operation for simplicity. We say that the output from the first command is piped to and used as input the second command.\n",
    "\n",
    "You can connect as many commands as you want. For example:"
   ]
  },
  {
   "cell_type": "code",
   "execution_count": null,
   "metadata": {
    "collapsed": true
   },
   "outputs": [],
   "source": [
    "ls | grep \".embl\" | wc -l"
   ]
  },
  {
   "cell_type": "markdown",
   "metadata": {},
   "source": [
    "What does this command do?"
   ]
  },
  {
   "cell_type": "markdown",
   "metadata": {},
   "source": [
    "## sort - sorting values\n",
    "\n",
    "The `sort` lets you sort the contents of the input. When you sort the input, lines with identical content end up next to each other in the output, which can then be fed to the `uniq` command (see below) to count the number of unique lines in the input."
   ]
  },
  {
   "cell_type": "markdown",
   "metadata": {},
   "source": [
    "To sort the contents of the BED file use:"
   ]
  },
  {
   "cell_type": "code",
   "execution_count": null,
   "metadata": {
    "collapsed": true
   },
   "outputs": [],
   "source": [
    "sort Pfalciparum.bes"
   ]
  },
  {
   "cell_type": "markdown",
   "metadata": {},
   "source": [
    "To sort the contents of the BED file on position type the following command."
   ]
  },
  {
   "cell_type": "code",
   "execution_count": null,
   "metadata": {
    "collapsed": true
   },
   "outputs": [],
   "source": [
    "sort -k 2 -n Pfalciparum.bed"
   ]
  },
  {
   "cell_type": "markdown",
   "metadata": {},
   "source": [
    "The `sort` command can sort by multiple columns e.g. 1st column and then 2nd column by specifying successive -k parameters in the command."
   ]
  },
  {
   "cell_type": "markdown",
   "metadata": {},
   "source": [
    "## uniq - finding unique values\n",
    "\n",
    "The `uniq` cmmand extracts unique lines from the input. It is usualy used in combination with sort to count unique values in the input."
   ]
  },
  {
   "cell_type": "markdown",
   "metadata": {},
   "source": [
    "To get the list of chromosomes in the BED file use:"
   ]
  },
  {
   "cell_type": "code",
   "execution_count": null,
   "metadata": {
    "collapsed": true
   },
   "outputs": [],
   "source": [
    "awk ’{ print $1 }’ Pfalciparum.bed | sort | uniq"
   ]
  },
  {
   "cell_type": "markdown",
   "metadata": {},
   "source": [
    "How many chromosomes are there?"
   ]
  },
  {
   "cell_type": "markdown",
   "metadata": {},
   "source": [
    "Now modify the previous command to count the number of features per chromosome. How many of these are repeated?\n",
    "Hint: use the man command to look at the options for the uniq command. Or peruse the wc or grep manuals. There’s more than one way to do it!"
   ]
  },
  {
   "cell_type": "code",
   "execution_count": null,
   "metadata": {
    "collapsed": true
   },
   "outputs": [],
   "source": []
  },
  {
   "cell_type": "markdown",
   "metadata": {},
   "source": [
    "## Getting help man\n",
    "\n",
    "To obtain further information on any of the Unix commands introduced in this tutorial you can use the man command. For example, to get a full description and examples of how to use the sort command use the following command in a terminal window."
   ]
  },
  {
   "cell_type": "code",
   "execution_count": null,
   "metadata": {
    "collapsed": false
   },
   "outputs": [],
   "source": [
    "man sort"
   ]
  },
  {
   "cell_type": "markdown",
   "metadata": {},
   "source": [
    "## Exercises\n",
    "\n",
    "The following exercises ... Open up another terminal window.\n",
    "\n",
    "1. head/tail command\n",
    "2. cat command\n",
    "3. Use the sort command to sort the Bed file X on chromosome and then gene position\n",
    "4. Use the uniq command to count the number of features per chromosome in the bed file\n",
    "5. Exercise with pipes"
   ]
  }
 ],
 "metadata": {
  "kernelspec": {
   "display_name": "Bash",
   "language": "bash",
   "name": "bash"
  },
  "language_info": {
   "codemirror_mode": "shell",
   "file_extension": ".sh",
   "mimetype": "text/x-sh",
   "name": "bash"
  }
 },
 "nbformat": 4,
 "nbformat_minor": 0
}
