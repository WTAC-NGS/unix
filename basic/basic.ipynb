{
 "cells": [
  {
   "cell_type": "markdown",
   "metadata": {},
   "source": [
    "# Basic Unix\n",
    "\n",
    "## The Commandline\n",
    "\n",
    "All Unix programs may be run by typing commands at the Unix prompt. The Unix prompt is similar to `C:\\` in DOS.\n",
    "The prompt will often be different on different Unix computers, for example it may be displayed as a `$` character or a `%` character.\n",
    "\n",
    "The commands entered at the commandline after the prompt tell the computer what to do. You may subtly alter these commands by specifying certain options when typing in the command line.\n",
    "\n",
    "Typing any Unix command for example `ls`, `mv` or `cd` at the Unix prompt with the appropriate variables such as file names or directories will result in the tasks being performed on pressing the enter key.\n",
    "\n",
    "`command   options   arguments`\n",
    "\n",
    "The 'command' is separated from the options and arguments by a space. Additional options and/or arguments can be added to the command to affect the way the command works. Options usually have one dash and a letter (e.g. -h) or two dashes and a word (--help) with no space between the dash and the letter/word. Arguments are usually filenames or directories.\n",
    "\n",
    "For example:"
   ]
  },
  {
   "cell_type": "code",
   "execution_count": null,
   "metadata": {
    "collapsed": false,
    "scrolled": true
   },
   "outputs": [],
   "source": [
    "ls -l Styphi"
   ]
  },
  {
   "cell_type": "markdown",
   "metadata": {},
   "source": [
    "The command here is `ls`, `-l` (the letter l) is the option passed to the command `ls` and the directory Styphi is the argument passed to the command `ls`. "
   ]
  },
  {
   "cell_type": "markdown",
   "metadata": {},
   "source": [
    "## Getting started\n",
    "\n",
    "To follow this part of the course, type the following command into your terminal window followed by the enter key:\n",
    "\n",
    "`cd basic`\n",
    "\n",
    "Then continue through the course, entering any commands that you encounter into your terminal window. \n",
    "\n",
    "However, before getting started there are some general points to remember that will make your life easier:\n",
    "\n",
    "* Unix is case sensitive - typing `ls` is not the same as typing `LS`.\n",
    "* You need to put a space between a command and its argument - for example, `less myfile` will show you the contents of the file called myfile; `lessmyfile` will just give you an error!\n",
    "* Unix is not psychic! If you mis-spell the name of a command or the name of a file, it will not understand you.\n",
    "* Many of the commands are only a few letters long; this can be confusing until you start to think logically about why those letters were chosen, `ls` for list, `rm` for remove and so on.\n",
    "* Often when you have problems with Unix, it is due to a spelling mistake, or perhaps you have omitted a space."
   ]
  },
  {
   "cell_type": "markdown",
   "metadata": {},
   "source": [
    "## Files and directories\n",
    "\n",
    "Directories are the Unix equivalent of folders on a PC or Mac. They are organised in a hierarchy, so directories can have sub-directories and so on. Directories are very useful for organising your work and keeping your account tidy - for example, if you have more than one project, you can organise the files for each project into different directories to keep them separate. You can think of directories as rooms in a house. You can only be in one room (directory) at a time. When you are in a room you can see everything in that room easily. To see things in other rooms, you have to go to the appropriate door and crane your head around. Unix works in a similar manner, moving from directory to directory to access files. The location or directory that you are in is referred to as the current working directory.\n",
    "\n",
    "If there is a file called `genome.seq` in the `dna` directory its location or full pathname can be expressed as `/nfs/dna/genome.seq`."
   ]
  },
  {
   "cell_type": "markdown",
   "metadata": {},
   "source": [
    "![Hierarchy](directory_structure.png)"
   ]
  },
  {
   "cell_type": "markdown",
   "metadata": {},
   "source": [
    "## pwd - find where you are\n",
    "\n",
    "The commmand `pwd` stands for print working directory. \n",
    "\n",
    "As described above, directories are arranged in a hierarchical structure. To determine where you are in the hierarchy you can use the `pwd` command to display the name of the current working directory. The current working directory may be thought of as the directory you are in, i.e. your current position in the file-system tree.\n",
    "\n",
    "To find out where you are use:"
   ]
  },
  {
   "cell_type": "code",
   "execution_count": null,
   "metadata": {
    "collapsed": false,
    "scrolled": true
   },
   "outputs": [],
   "source": [
    "pwd"
   ]
  },
  {
   "cell_type": "markdown",
   "metadata": {},
   "source": [
    "Remember that Unix is case sensitive, `PWD` is not the same as `pwd`."
   ]
  },
  {
   "cell_type": "markdown",
   "metadata": {},
   "source": [
    "## ls - list the contents of a directory\n",
    "\n",
    "The command `ls` stands for list.\n",
    "\n",
    "The `ls` command can be used to list the contents of a directory."
   ]
  },
  {
   "cell_type": "markdown",
   "metadata": {},
   "source": [
    "To list the contents of your current working directory use:"
   ]
  },
  {
   "cell_type": "code",
   "execution_count": null,
   "metadata": {
    "collapsed": false,
    "scrolled": true
   },
   "outputs": [],
   "source": [
    "ls"
   ]
  },
  {
   "cell_type": "markdown",
   "metadata": {},
   "source": [
    "You should see that there are 4 items in this directory."
   ]
  },
  {
   "cell_type": "markdown",
   "metadata": {},
   "source": [
    "To list the contents of a directory with extra information about the items use:"
   ]
  },
  {
   "cell_type": "code",
   "execution_count": null,
   "metadata": {
    "collapsed": false,
    "scrolled": true
   },
   "outputs": [],
   "source": [
    "ls -l"
   ]
  },
  {
   "cell_type": "markdown",
   "metadata": {},
   "source": [
    "By using the `–l` option we can change the behaviour of the `ls` command. Instead of printing out a simple list, it will print out additional information about each file. There is a space between the command `ls` and the `–l` option. There is no space between the dash and the letter l.\n",
    "\n",
    "What do each of the columns represent?"
   ]
  },
  {
   "cell_type": "markdown",
   "metadata": {},
   "source": [
    "To list all contents of a directory including hidden files and directories use:"
   ]
  },
  {
   "cell_type": "code",
   "execution_count": null,
   "metadata": {
    "collapsed": false,
    "scrolled": false
   },
   "outputs": [],
   "source": [
    "ls -al"
   ]
  },
  {
   "cell_type": "markdown",
   "metadata": {},
   "source": [
    "How many hidden files and directories are there?"
   ]
  },
  {
   "cell_type": "markdown",
   "metadata": {},
   "source": [
    "Try the same command but with the `-h` option:"
   ]
  },
  {
   "cell_type": "code",
   "execution_count": null,
   "metadata": {
    "collapsed": false,
    "scrolled": true
   },
   "outputs": [],
   "source": [
    "ls -alh"
   ]
  },
  {
   "cell_type": "markdown",
   "metadata": {},
   "source": [
    "What does the `-h` option do?"
   ]
  },
  {
   "cell_type": "markdown",
   "metadata": {},
   "source": [
    "To list the contents of the directory called Pfalciprum with extra information use:"
   ]
  },
  {
   "cell_type": "code",
   "execution_count": null,
   "metadata": {
    "collapsed": false,
    "scrolled": true
   },
   "outputs": [],
   "source": [
    "ls -l Pfalciparum"
   ]
  },
  {
   "cell_type": "markdown",
   "metadata": {},
   "source": [
    "How many files are there in this directory?"
   ]
  },
  {
   "cell_type": "markdown",
   "metadata": {},
   "source": [
    "## File permissions\n",
    "\n",
    "Every file and directory have a set of permissions which restrict what can be done with a file or directory.\n",
    "\n",
    "* Read (r): permission to read from a file/directory\n",
    "* Write (w): permission to modify a file/directory\n",
    "* Execute (x): Tells the operating system that the file contains code for the computer to run, as opposed to a file of text which you open in a text editor.\n",
    "\n",
    "The first set of permissions (characters 2,3,4) refer to what the owner of the file can do, the second set of permissions (5,6,7) refers to what members of the Unix group can do and the third set of permissions (8,9,10) refers to what everyone else can do."
   ]
  },
  {
   "cell_type": "markdown",
   "metadata": {},
   "source": [
    "## cd - change current working directory\n",
    "\n",
    "The command `cd` stands for change directory.\n",
    "\n",
    "The `cd` command will change the current working directory to another, in other words allow you to move up or down in the directory hierarchy. \n",
    "\n",
    "To move into the Unix directory use:"
   ]
  },
  {
   "cell_type": "code",
   "execution_count": null,
   "metadata": {
    "collapsed": false,
    "scrolled": true
   },
   "outputs": [],
   "source": [
    "cd Styphi"
   ]
  },
  {
   "cell_type": "markdown",
   "metadata": {},
   "source": [
    "Now use the `pwd` command to check your location in the directory hierarchy and the `ls` command to list the contents of this directory."
   ]
  },
  {
   "cell_type": "code",
   "execution_count": null,
   "metadata": {
    "collapsed": false,
    "scrolled": false
   },
   "outputs": [],
   "source": [
    "pwd\n",
    "ls"
   ]
  },
  {
   "cell_type": "markdown",
   "metadata": {},
   "source": [
    "You should see that there are 3 files called:\n",
    "`Styphi.fa`, `Stypi.gff`, `Styphi.noseq.gff`"
   ]
  },
  {
   "cell_type": "markdown",
   "metadata": {},
   "source": [
    "## Tips\n",
    "\n",
    "There are some short cuts for referring to directories:\n",
    "* . Current directory (one full stop)\n",
    "* .. Directory above (two full stops)\n",
    "* ~ Home directory (tilda)\n",
    "* / Root of the file system (like C:\\ in Windows)\n",
    "\n",
    "Try the following commands, what do they do?"
   ]
  },
  {
   "cell_type": "code",
   "execution_count": null,
   "metadata": {
    "collapsed": false
   },
   "outputs": [],
   "source": [
    "ls ."
   ]
  },
  {
   "cell_type": "code",
   "execution_count": null,
   "metadata": {
    "collapsed": false
   },
   "outputs": [],
   "source": [
    "ls .."
   ]
  },
  {
   "cell_type": "code",
   "execution_count": null,
   "metadata": {
    "collapsed": false
   },
   "outputs": [],
   "source": [
    "ls ~"
   ]
  },
  {
   "cell_type": "markdown",
   "metadata": {},
   "source": [
    "## cp - copy a file\n",
    "\n",
    "The command `cp` stands for copy.\n",
    "\n",
    "The `cp` command will copy a file from one location to another and you will end up with two copies of the file."
   ]
  },
  {
   "cell_type": "markdown",
   "metadata": {},
   "source": [
    "To copy the file `Styphi.gff` to a new file called `StyphiCT18` use:"
   ]
  },
  {
   "cell_type": "code",
   "execution_count": null,
   "metadata": {
    "collapsed": false
   },
   "outputs": [],
   "source": [
    "cp Styphi.gff StyphiCT18.gff"
   ]
  },
  {
   "cell_type": "markdown",
   "metadata": {},
   "source": [
    "Use `ls` to check the contents of the current directory for the copied file:"
   ]
  },
  {
   "cell_type": "code",
   "execution_count": null,
   "metadata": {
    "collapsed": false
   },
   "outputs": [],
   "source": [
    "ls"
   ]
  },
  {
   "cell_type": "markdown",
   "metadata": {},
   "source": [
    "## mv - move a file\n",
    "\n",
    "The `mv` command stand for move.\n",
    "\n",
    "The `mv` command will move a file from one location to another. This moves the file rather than copies it, therefore you end up with only one file rather than two. When using the command, the path or pathname is used to tell Unix where to find the file. You refer to files in other directories by using the list of hierarchical names separated by slashes. For example, the file called bases in the directory genome has the path genome/bases. If no path is specified, Unix assumes that the file is in the current working directory.\n",
    "\n",
    "To move the file `StyphiCT18.gff` from the current directory to the directory above use:"
   ]
  },
  {
   "cell_type": "code",
   "execution_count": null,
   "metadata": {
    "collapsed": false
   },
   "outputs": [],
   "source": [
    "mv StyphiCT18.gff .."
   ]
  },
  {
   "cell_type": "markdown",
   "metadata": {},
   "source": [
    "Use the `ls` command to check the contents of the current directory and the directory above to see that Styphi.fa has been moved."
   ]
  },
  {
   "cell_type": "code",
   "execution_count": null,
   "metadata": {
    "collapsed": false
   },
   "outputs": [],
   "source": [
    "ls"
   ]
  },
  {
   "cell_type": "code",
   "execution_count": null,
   "metadata": {
    "collapsed": false
   },
   "outputs": [],
   "source": [
    "cd ..\n",
    "ls"
   ]
  },
  {
   "cell_type": "markdown",
   "metadata": {},
   "source": [
    "## rm - delete a file\n",
    "\n",
    "The command `rm` stands for remove.\n",
    "\n",
    "The `rm` command will delete a file permanently from your computer so take care!\n",
    "\n",
    "To remove the copy of the S. typhi genome file, called `StyphiCT18.gff` use:"
   ]
  },
  {
   "cell_type": "code",
   "execution_count": null,
   "metadata": {
    "collapsed": false
   },
   "outputs": [],
   "source": [
    "rm StyphiCT18.gff"
   ]
  },
  {
   "cell_type": "markdown",
   "metadata": {},
   "source": [
    "Use the `ls` command to check the contents of the current directory to see that the file `StyphiCT18.gff` has been removed."
   ]
  },
  {
   "cell_type": "code",
   "execution_count": null,
   "metadata": {
    "collapsed": false
   },
   "outputs": [],
   "source": [
    "ls"
   ]
  },
  {
   "cell_type": "markdown",
   "metadata": {},
   "source": [
    "Unfortunately there is no \"recycle bin\" on the command line to recover the file from, so you have to be careful."
   ]
  },
  {
   "cell_type": "markdown",
   "metadata": {},
   "source": [
    "## find - find a file\n",
    "\n",
    "The `find` command can be used to find files matching a given expression. It can be used to recursively search the directory tree for a specified name, seeking files and directories that match the given name."
   ]
  },
  {
   "cell_type": "markdown",
   "metadata": {},
   "source": [
    "To find all files in the current directory and all its subdirectories that end with the suffix embl:"
   ]
  },
  {
   "cell_type": "code",
   "execution_count": null,
   "metadata": {
    "collapsed": false
   },
   "outputs": [],
   "source": [
    "find . -name \"*.gff\""
   ]
  },
  {
   "cell_type": "markdown",
   "metadata": {},
   "source": [
    "How many gff files did you find?"
   ]
  },
  {
   "cell_type": "markdown",
   "metadata": {},
   "source": [
    "To find all the subdirectories contained in the current directory use:"
   ]
  },
  {
   "cell_type": "code",
   "execution_count": null,
   "metadata": {
    "collapsed": false
   },
   "outputs": [],
   "source": [
    "find . -type d"
   ]
  },
  {
   "cell_type": "markdown",
   "metadata": {},
   "source": [
    "How many subdirectories did you find?"
   ]
  },
  {
   "cell_type": "markdown",
   "metadata": {},
   "source": [
    "These are just two basic examples of the find command but it is possible to use the following find options to search in many other ways:\n",
    "* `-mtime` : search files by modifying date \n",
    "* `-atime` : search files by last access date \n",
    "* `-size` : search files by file size\n",
    "* `-user` : search files by user they belong to"
   ]
  },
  {
   "cell_type": "markdown",
   "metadata": {},
   "source": [
    "## Exercises\n",
    "\n",
    "Many people panic when they are confronted with a Unix prompt! Don’t! All the commands you need to solve these exercises are are provided above and don't be afraid to make a mistake. If you get lost ask a demonstrator. If you are a person skilled at Unix, be patient this is only a short exercise.\n",
    "\n",
    "To begin, open a terminal window and navigate to the `basic` directory in the `Unix_course` directory (remember use the Unix command `cd`) and then complete the exercise below.\n",
    "\n",
    "1. Use the `ls` command to show the contents of the `basic` directory\n",
    "2. How many files are there in the `Pfalciparum` directory?\n",
    "3. What is the largest file in the `Pfalciparum` directory?\n",
    "4. Move into the `Pfalciparum` directory.\n",
    "5. How many files are there in the `fasta` directory?\n",
    "6. Copy the file `Pfalciparum.bed` in the `Pfalciparum` directory into the `annotation` directory.\n",
    "7. Move all the fasta files in the directory `Pfalciparum` to the `fasta` directory.\n",
    "8. How many files are there in the `fasta` directory?\n",
    "9. Use the `find` command to find all gff files in the `Unix` directory, how many files did you find?\n",
    "10. Use the `find` command to find all the fasta files in the `Unix` directory, how many files did you find?"
   ]
  }
 ],
 "metadata": {
  "kernelspec": {
   "display_name": "Bash",
   "language": "bash",
   "name": "bash"
  },
  "language_info": {
   "codemirror_mode": "shell",
   "file_extension": ".sh",
   "mimetype": "text/x-sh",
   "name": "bash"
  }
 },
 "nbformat": 4,
 "nbformat_minor": 0
}
