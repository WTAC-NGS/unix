{
 "cells": [
  {
   "cell_type": "markdown",
   "metadata": {},
   "source": [
    "# Introducing Unix\n",
    "\n",
    "Unix is the standard operating system on most large computer systems in scientific research, in the same way that Microsoft Windows is the dominant operating system on desktop PCs.\n",
    "\n",
    "Unix and MS Windows both perform the important job of managing the computer's hardware (screen, keyboard, mouse, hard disks, network connections, etc...) on your behalf. They also provide you with tools to manage your files and to run application software. They both offer a graphical user interface (desktop). These desktop interfaces look different between the operating systems, use different names for things (e.g. directory versus folder) and have different images but they mostly offer the same functionality.\n",
    "\n",
    "Unix is a powerful, secure, robust and stable operating system which allows dozens of people to run programs on the same computer at the same time. This is why it is the preferred operating system for large-scale scientific computing. It runs on all kinds of machines, from mobile phones (Android), desktop PCs... to supercomputers."
   ]
  },
  {
   "cell_type": "markdown",
   "metadata": {},
   "source": [
    "# Why Unix?\n",
    "\n",
    "Increasingly, the output of biological research exists as in silico data, usually in the form of large text files. Unix is particularly suitable for working with such files and has several powerful and flexible commands that can be used to process and analyse this data. One advantage of learning Unix is that many of the commands can be combined in an almost unlimited fashion. So if you can learn just six Unix commands, you will be able to do a lot more than just six things.\n",
    "\n",
    "Unix contains hundreds of commands, but to conduct your analysis you will probably only need 10 or so to achieve most of what you want to do. In this tutorial we will introduce you to some basic Unix commands followed by some more advanced commands and provide examples of how they can be used in bioinformatics analyses."
   ]
  },
  {
   "cell_type": "markdown",
   "metadata": {},
   "source": [
    "## The Commandline\n",
    "\n",
    "All Unix programs may be run by typing commands at the Unix prompt $. The command line tells the computer what to do. You may subtly alter these commands by specifying certain options when typing in the command line.\n",
    "\n",
    "Typing any Unix command for example `ls`, `mv` or `cd` at the Unix prompt with the appropriate variables such as file names or directories will result in the tasks being performed on pressing the enter key.\n",
    "\n",
    "`command   options   arguments`\n",
    "\n",
    "The 'command' is separated from the options and arguments by a space. Additional options and/or arguments can be added to the command to affect the way the command works. Options usually have one dash and a letter (e.g. -h) or two dashes and a word (--help) with no space between the dash and the letter/word. Arguments are usually filenames or directories.\n",
    "\n",
    "For example:"
   ]
  },
  {
   "cell_type": "code",
   "execution_count": 1,
   "metadata": {
    "collapsed": false,
    "scrolled": true
   },
   "outputs": [
    {
     "name": "stdout",
     "output_type": "stream",
     "text": [
      "ls: X: No such file or directory\r\n"
     ]
    }
   ],
   "source": [
    "ls -l X"
   ]
  },
  {
   "cell_type": "markdown",
   "metadata": {},
   "source": [
    "The command here is `ls`, `-l` (the letter l) is the option passed to the command `ls` and the directory X is the argument passed to the command `ls`. "
   ]
  },
  {
   "cell_type": "markdown",
   "metadata": {},
   "source": [
    "Does all of the above need to go on the intro/index page?\n",
    "Then we need an intro paragraph that we will cover some of the basic unix commands for managing files and directories."
   ]
  },
  {
   "cell_type": "markdown",
   "metadata": {},
   "source": [
    "## Files and directories\n",
    "\n",
    "Directories are the Unix equivalent of folders on a PC or Mac. They are organised in a hierarchy, so directories can have sub-directories and so on. Directories are very useful for organising your work and keeping your account tidy - for example, if you have more than one project, you can organise the files for each project into different directories to keep them separate. You can think of directories as rooms in a house. You can only be in one room (directory) at a time. When you are in a room you can see everything in that room easily. To see things in other rooms, you have to go to the appropriate door and crane your head around. Unix works in a similar manner, moving from directory to directory to access files. The location or directory that you are in is referred to as the current working directory.\n",
    "\n",
    "insert image of file hirarchy\n",
    "\n",
    "If there is a file called genome.seq in the dna directory its location or full pathname can be expressed as /nfs/dna/genome.seq."
   ]
  },
  {
   "cell_type": "markdown",
   "metadata": {},
   "source": [
    "## pwd - find where you are\n",
    "\n",
    "The commmand `pwd` stands for print working directory. \n",
    "\n",
    "As described above, directories are arranged in a hierarchical structure. To determine where you are in the hierarchy you can use the `pwd` command to display the name of the current working directory. The current working directory may be thought of as the directory you are in, i.e. your current position in the file-system tree.\n",
    "\n",
    "To find out where you are use:"
   ]
  },
  {
   "cell_type": "code",
   "execution_count": 2,
   "metadata": {
    "collapsed": false,
    "scrolled": true
   },
   "outputs": [
    {
     "name": "stdout",
     "output_type": "stream",
     "text": [
      "/Users/jm15/Desktop/Unix_course/Notebooks/basic\r\n"
     ]
    }
   ],
   "source": [
    "pwd"
   ]
  },
  {
   "cell_type": "markdown",
   "metadata": {},
   "source": [
    "You will see that you are in your home directory.\n",
    "\n",
    "Remember that Unix is case sensitive, `PWD` is not the same as `pwd`."
   ]
  },
  {
   "cell_type": "markdown",
   "metadata": {},
   "source": [
    "## ls - list the contents of a directory\n",
    "\n",
    "The command `ls` stands for list.\n",
    "\n",
    "The `ls` command can be used to list the contents of a directory."
   ]
  },
  {
   "cell_type": "markdown",
   "metadata": {},
   "source": [
    "To list the contents of your current working directory use:"
   ]
  },
  {
   "cell_type": "code",
   "execution_count": 3,
   "metadata": {
    "collapsed": false,
    "scrolled": true
   },
   "outputs": [
    {
     "name": "stdout",
     "output_type": "stream",
     "text": [
      "basic.ipynb\r\n"
     ]
    }
   ],
   "source": [
    "ls"
   ]
  },
  {
   "cell_type": "markdown",
   "metadata": {},
   "source": [
    "You should see that there are 4 files in this directory."
   ]
  },
  {
   "cell_type": "markdown",
   "metadata": {},
   "source": [
    "To list the contents of a directory with extra information about the files use:"
   ]
  },
  {
   "cell_type": "code",
   "execution_count": 4,
   "metadata": {
    "collapsed": false,
    "scrolled": true
   },
   "outputs": [
    {
     "name": "stdout",
     "output_type": "stream",
     "text": [
      "total 56\r\n",
      "-rw-r--r--@ 1 jm15  920  28102 11 Nov 19:06 basic.ipynb\r\n"
     ]
    }
   ],
   "source": [
    "ls -l"
   ]
  },
  {
   "cell_type": "markdown",
   "metadata": {},
   "source": [
    "By using the `–l` option we can change the behaviour of the `ls` command. Instead of printing out a simple list, it will print out additional information about each file. There is a space between the command `ls` and the `–l` option. There is no space between the dash and the letter l.\n",
    "\n",
    "What do each of the columns represent?"
   ]
  },
  {
   "cell_type": "markdown",
   "metadata": {},
   "source": [
    "To list all contents of a directory including hidden files and directories use:"
   ]
  },
  {
   "cell_type": "code",
   "execution_count": 5,
   "metadata": {
    "collapsed": false,
    "scrolled": false
   },
   "outputs": [
    {
     "name": "stdout",
     "output_type": "stream",
     "text": [
      "total 56\r\n",
      "drwxr-xr-x  4 jm15  920    136 11 Nov 19:06 .\r\n",
      "drwxr-xr-x@ 9 jm15  920    306 10 Nov 13:15 ..\r\n",
      "drwxr-xr-x  3 jm15  920    102 10 Nov 13:19 .ipynb_checkpoints\r\n",
      "-rw-r--r--@ 1 jm15  920  28102 11 Nov 19:06 basic.ipynb\r\n"
     ]
    }
   ],
   "source": [
    "ls -al"
   ]
  },
  {
   "cell_type": "markdown",
   "metadata": {},
   "source": [
    "How many hidden files and directories are there?"
   ]
  },
  {
   "cell_type": "markdown",
   "metadata": {},
   "source": [
    "Try the same command but with the `-h` option:"
   ]
  },
  {
   "cell_type": "code",
   "execution_count": 6,
   "metadata": {
    "collapsed": false,
    "scrolled": true
   },
   "outputs": [
    {
     "name": "stdout",
     "output_type": "stream",
     "text": [
      "total 56\r\n",
      "drwxr-xr-x  4 jm15  920   136B 11 Nov 19:06 .\r\n",
      "drwxr-xr-x@ 9 jm15  920   306B 10 Nov 13:15 ..\r\n",
      "drwxr-xr-x  3 jm15  920   102B 10 Nov 13:19 .ipynb_checkpoints\r\n",
      "-rw-r--r--@ 1 jm15  920    27K 11 Nov 19:06 basic.ipynb\r\n"
     ]
    }
   ],
   "source": [
    "ls -alh"
   ]
  },
  {
   "cell_type": "markdown",
   "metadata": {},
   "source": [
    "What does the `-h` option do?"
   ]
  },
  {
   "cell_type": "markdown",
   "metadata": {},
   "source": [
    "To list the contents of the directory called Module_1_Artemis with extra information use:"
   ]
  },
  {
   "cell_type": "code",
   "execution_count": 7,
   "metadata": {
    "collapsed": false,
    "scrolled": true
   },
   "outputs": [
    {
     "name": "stdout",
     "output_type": "stream",
     "text": [
      "ls: Module_1_Artemis: No such file or directory\r\n"
     ]
    }
   ],
   "source": [
    "ls -l Module_1_Artemis"
   ]
  },
  {
   "cell_type": "markdown",
   "metadata": {},
   "source": [
    "How many files are there in this directory?"
   ]
  },
  {
   "cell_type": "markdown",
   "metadata": {},
   "source": [
    "## File permissions\n",
    "\n",
    "Every file and directory have a set of permissions which restrict what can be done with a file or directory.\n",
    "\n",
    "* Read (r): permission to read from a file/directory\n",
    "* Write (w): permission to modify a file/directory\n",
    "* Execute (x): Tells the operating system that the file contains code for the computer to run, as opposed to a file of text which you open in a text editor.\n",
    "\n",
    "The first set of permissions (characters 2,3,4) refer to what the owner of the file can do, the second set of permissions (5,6,7) refers to what members of the Linux group can do and the third set of permissions (8,9,10) refers to what everyone else can do."
   ]
  },
  {
   "cell_type": "markdown",
   "metadata": {},
   "source": [
    "## cd - change current working directory\n",
    "\n",
    "The command `cd` stands for change directory.\n",
    "\n",
    "The `cd` command will change the current working directory to another, in other words allow you to move up or down in the directory hierarchy. \n",
    "\n",
    "To move into the Unix directory use:"
   ]
  },
  {
   "cell_type": "code",
   "execution_count": 8,
   "metadata": {
    "collapsed": false,
    "scrolled": true
   },
   "outputs": [
    {
     "name": "stdout",
     "output_type": "stream",
     "text": [
      "bash: cd: Unix: No such file or directory\r\n"
     ]
    }
   ],
   "source": [
    "cd Unix"
   ]
  },
  {
   "cell_type": "markdown",
   "metadata": {},
   "source": [
    "Now use the `pwd` command to check your location in the directory hierarchy and the `ls` command to list the contents of this directory."
   ]
  },
  {
   "cell_type": "code",
   "execution_count": 9,
   "metadata": {
    "collapsed": false,
    "scrolled": false
   },
   "outputs": [
    {
     "name": "stdout",
     "output_type": "stream",
     "text": [
      "/Users/jm15/Desktop/Unix_course/Notebooks/basic\r\n",
      "basic.ipynb\r\n"
     ]
    }
   ],
   "source": [
    "pwd\n",
    "ls"
   ]
  },
  {
   "cell_type": "markdown",
   "metadata": {},
   "source": [
    "You should see that there are 4 files called:\n",
    "AL513382.embl, MAL13P1.dna, MAL13P1.tab, Malaria.fasta"
   ]
  },
  {
   "cell_type": "markdown",
   "metadata": {},
   "source": [
    "## Tips\n",
    "\n",
    "There are some short cuts for referring to directories:\n",
    "* . Current directory (one full stop)\n",
    "* .. Directory above (two full stops)\n",
    "* ~ Home directory (tilda)\n",
    "* / Root of the file system (like C:\\ in Windows)\n",
    "\n",
    "Try the following commmands, what do they do?"
   ]
  },
  {
   "cell_type": "code",
   "execution_count": 10,
   "metadata": {
    "collapsed": false
   },
   "outputs": [
    {
     "name": "stdout",
     "output_type": "stream",
     "text": [
      "basic.ipynb\r\n"
     ]
    }
   ],
   "source": [
    "ls ."
   ]
  },
  {
   "cell_type": "code",
   "execution_count": 11,
   "metadata": {
    "collapsed": false
   },
   "outputs": [
    {
     "name": "stdout",
     "output_type": "stream",
     "text": [
      "awk\t\tbasic\t\tgrep\r\n",
      "bash_scripts\tfiles\t\tindex.ipynb\r\n"
     ]
    }
   ],
   "source": [
    "ls .."
   ]
  },
  {
   "cell_type": "code",
   "execution_count": 13,
   "metadata": {
    "collapsed": false
   },
   "outputs": [
    {
     "name": "stdout",
     "output_type": "stream",
     "text": [
      "1.o\r\n",
      "2.o\r\n",
      "2.p\r\n",
      "2591.statusfind.txt\r\n",
      "3.o\r\n",
      "352.lanes.txt\r\n",
      "3533.assembly_stats.tsv\r\n",
      "3533.kraken_summary.csv\r\n",
      "3533.pathfind.o\r\n",
      "41yU0q+XrPL._SX300_.jpg\r\n",
      "497698_external.xls\r\n",
      "66.o\r\n",
      "Applications\r\n",
      "Artemis\r\n",
      "Desktop\r\n",
      "Documents\r\n",
      "Downloads\r\n",
      "Dropbox\r\n",
      "Google Drive\r\n",
      "Gorgeous-Grey-Walls-home-interior-design-Modern-Home-Office-Vancouver.jpg\r\n",
      "Library\r\n",
      "Misc\r\n",
      "Module_5_Programming.pdf\r\n",
      "Movies\r\n",
      "Music\r\n",
      "Numbers.pdf\r\n",
      "PI-Reviews.xlsx\r\n",
      "Phone-Backup\r\n",
      "Photos\r\n",
      "Pictures\r\n",
      "Public\r\n",
      "Results (1).xlsx\r\n",
      "Results.pdf\r\n",
      "Room.pptx\r\n",
      "Smallbathroom2.jpg\r\n",
      "Study3533.xlsx\r\n",
      "UNIX.pdf\r\n",
      "Work\r\n",
      "Workbook10.xlsx\r\n",
      "a.o\r\n",
      "act_current (1).jnlp\r\n",
      "act_current (2).jnlp\r\n",
      "act_current.jnlp\r\n",
      "all.1.o\r\n",
      "all.o\r\n",
      "artemis.jnlp\r\n",
      "b.l\r\n",
      "b.o\r\n",
      "bamview.gif\r\n",
      "bh.o\r\n",
      "c.o\r\n",
      "cpanm\r\n",
      "curated.e\r\n",
      "curated.o\r\n",
      "curated2.e\r\n",
      "curated2.o\r\n",
      "d.o\r\n",
      "db_act.jnlp\r\n",
      "db_artemis.jnlp\r\n",
      "db_genebuilder.jnlp\r\n",
      "dnaplot_st_example_launch.jnlp\r\n",
      "dnaplot_st_example_launch1.jnlp\r\n",
      "dnaplotter.jnlp\r\n",
      "dnaplotter.jpg\r\n",
      "dnaplotter_transcriptome_example_launch2.jnlp\r\n",
      "e.lanes.all.txt\r\n",
      "e.lanes.txt\r\n",
      "e.o\r\n",
      "example1.template\r\n",
      "example2.template\r\n",
      "example3.template\r\n",
      "external.txt\r\n",
      "external_496772.xls\r\n",
      "f.o\r\n",
      "fail.o.assembly_stats.tsv\r\n",
      "fixed.e\r\n",
      "fixed.o\r\n",
      "fixed2.e\r\n",
      "fixed2.o\r\n",
      "fx.ext.o\r\n",
      "fx.o\r\n",
      "homebrew\r\n",
      "info.3533.tsv\r\n",
      "info.tsv\r\n",
      "internal.txt\r\n",
      "l.k\r\n",
      "loftstorage1.jpg\r\n",
      "m.1\r\n",
      "m.2\r\n",
      "m.l\r\n",
      "m.sort.2\r\n",
      "new_website\r\n",
      "o.txt\r\n",
      "office.jpg\r\n",
      "p.l\r\n",
      "p.o\r\n",
      "pathogen-infomatics-14 (1).jpg\r\n",
      "pathogen-infomatics-14.jpg\r\n",
      "perl5\r\n",
      "plm.o\r\n",
      "pmp5882.jpg\r\n",
      "possible_dups.txt\r\n",
      "prok.external.problems.txt\r\n",
      "python\r\n",
      "qc.o.kraken_summary.csv\r\n",
      "referral_for_occupational_health_assessment_april_2015.docx\r\n",
      "run3.e\r\n",
      "run3.o\r\n",
      "sact_current.jar\r\n",
      "samples.info.o\r\n",
      "samples.txt\r\n",
      "setup_dev.sh\r\n",
      "smallbathroom.jpg\r\n",
      "smalt_kobi_MU_2.out\r\n",
      "sp.list.mising.sorted.o.assembly_stats.tsv\r\n",
      "sp.list.mising.sorted.o.kraken_summary.csv\r\n",
      "species.3533.csv\r\n",
      "species.txt\r\n",
      "t.o\r\n",
      "test\r\n",
      "tmp_jupyter\r\n",
      "u.o\r\n",
      "users.o\r\n",
      "users.txt\r\n",
      "users1.txt\r\n",
      "vr-codebase\r\n",
      "white-kitchen-cabinets-with-dark-floors-s-bcf670c6f32f9607.jpg\r\n",
      "x.o\r\n"
     ]
    }
   ],
   "source": [
    "ls ~"
   ]
  },
  {
   "cell_type": "markdown",
   "metadata": {},
   "source": [
    "## cp - copy a file\n",
    "\n",
    "The command `cp` stands for copy.\n",
    "\n",
    "The `cp` command will copy a file from one loaction to another and you will end up with two copies of the file."
   ]
  },
  {
   "cell_type": "markdown",
   "metadata": {},
   "source": [
    "To copy the file AL1324.embl to a new file called S_typhi.embl use:"
   ]
  },
  {
   "cell_type": "code",
   "execution_count": 56,
   "metadata": {
    "collapsed": false
   },
   "outputs": [
    {
     "name": "stdout",
     "output_type": "stream",
     "text": [
      "cp: AL1324.embl: No such file or directory\r\n"
     ]
    }
   ],
   "source": [
    "cp AL1324.embl S_typhi.embl"
   ]
  },
  {
   "cell_type": "markdown",
   "metadata": {},
   "source": [
    "Use `ls` to check the contents of the current directory for the copied file:"
   ]
  },
  {
   "cell_type": "code",
   "execution_count": 14,
   "metadata": {
    "collapsed": false
   },
   "outputs": [
    {
     "name": "stdout",
     "output_type": "stream",
     "text": [
      "basic.ipynb\r\n"
     ]
    }
   ],
   "source": [
    "ls"
   ]
  },
  {
   "cell_type": "markdown",
   "metadata": {},
   "source": [
    "## mv - move a file\n",
    "\n",
    "The `mv` command stand for move.\n",
    "\n",
    "The `mv` command will move a file from one location to another. This moves the file rather than copies it, therefore you end up with only one file rather than two. When using the command, the path or pathname is used to tell Unix where to find the file. You refer to files in other directories by using the list of hierarchical names separated by slashes. For example, the file bases in the directory genome has the path genome/bases. If no path is specified, Unix assumes that the file is in the current working directory.\n",
    "\n",
    "To move the file S_typhi.embl from the Unix directory to the current working directory use:"
   ]
  },
  {
   "cell_type": "code",
   "execution_count": 15,
   "metadata": {
    "collapsed": false
   },
   "outputs": [
    {
     "name": "stdout",
     "output_type": "stream",
     "text": [
      "mv: rename ../Unix/S_typhi.embl to ./S_typhi.embl: No such file or directory\r\n"
     ]
    }
   ],
   "source": [
    "mv ../Unix/S_typhi.embl ."
   ]
  },
  {
   "cell_type": "markdown",
   "metadata": {},
   "source": [
    "Use the `ls` command to check the contents of the current directory to see that S_typhi.embl has been moved."
   ]
  },
  {
   "cell_type": "code",
   "execution_count": 16,
   "metadata": {
    "collapsed": false
   },
   "outputs": [
    {
     "name": "stdout",
     "output_type": "stream",
     "text": [
      "basic.ipynb\r\n"
     ]
    }
   ],
   "source": [
    "ls"
   ]
  },
  {
   "cell_type": "markdown",
   "metadata": {},
   "source": [
    "## rm - delete a file\n",
    "\n",
    "The command `rm` stands for remove.\n",
    "\n",
    "The `rm` command will delete a file permanently from your computer so take care!\n",
    "\n",
    "To remove the old version of the S. typhi genome file, called AL513382.embl use:"
   ]
  },
  {
   "cell_type": "code",
   "execution_count": 17,
   "metadata": {
    "collapsed": false
   },
   "outputs": [
    {
     "name": "stdout",
     "output_type": "stream",
     "text": [
      "rm: AL513382.embl: No such file or directory\r\n"
     ]
    }
   ],
   "source": [
    "rm AL513382.embl"
   ]
  },
  {
   "cell_type": "markdown",
   "metadata": {},
   "source": [
    "Use the `ls` command to check the contents of the current directory to see that AL513382.embl has been removed."
   ]
  },
  {
   "cell_type": "code",
   "execution_count": 61,
   "metadata": {
    "collapsed": false
   },
   "outputs": [
    {
     "name": "stdout",
     "output_type": "stream",
     "text": [
      "awk\t\tbasic\t\tgrep\r\n",
      "bash_scripts\tfiles\t\tindex.ipynb\r\n"
     ]
    }
   ],
   "source": [
    "ls"
   ]
  },
  {
   "cell_type": "markdown",
   "metadata": {},
   "source": [
    "Unfortunately there is no \"recycle bin\" on the command line to recover the file from, so you have to be careful."
   ]
  },
  {
   "cell_type": "markdown",
   "metadata": {},
   "source": [
    "## find - find a file\n",
    "\n",
    "The `find` command can be used to find files matching a given expression. It can be used to recursively search the directory tree for a specified name, seeking files and directories that match the given name."
   ]
  },
  {
   "cell_type": "markdown",
   "metadata": {},
   "source": [
    "To find all files in the current directory and all its subdirectories that end with the suffix embl:"
   ]
  },
  {
   "cell_type": "code",
   "execution_count": 67,
   "metadata": {
    "collapsed": false
   },
   "outputs": [
    {
     "name": "stdout",
     "output_type": "stream",
     "text": []
    }
   ],
   "source": [
    "find . -name \"*.embl\""
   ]
  },
  {
   "cell_type": "markdown",
   "metadata": {},
   "source": [
    "How many embl files did you find?"
   ]
  },
  {
   "cell_type": "markdown",
   "metadata": {},
   "source": [
    "To find all the subdirectories contained in the current directory use:"
   ]
  },
  {
   "cell_type": "code",
   "execution_count": 69,
   "metadata": {
    "collapsed": false
   },
   "outputs": [
    {
     "name": "stdout",
     "output_type": "stream",
     "text": [
      ".\r\n",
      "./.ipynb_checkpoints\r\n",
      "./awk\r\n",
      "./awk/.ipynb_checkpoints\r\n",
      "./bash_scripts\r\n",
      "./bash_scripts/.ipynb_checkpoints\r\n",
      "./bash_scripts/scripts\r\n",
      "./bash_scripts/scripts/loop_files\r\n",
      "./basic\r\n",
      "./basic/.ipynb_checkpoints\r\n",
      "./files\r\n",
      "./grep\r\n",
      "./grep/.ipynb_checkpoints\r\n"
     ]
    }
   ],
   "source": [
    "find . -type d"
   ]
  },
  {
   "cell_type": "markdown",
   "metadata": {},
   "source": [
    "How many subdirectories did you find?"
   ]
  },
  {
   "cell_type": "markdown",
   "metadata": {},
   "source": [
    "These are just two basic examples of the find command but it is possible to use the following find options to search in many other ways:\n",
    "* `-mtime` : search files by modifying date \n",
    "* `-atime` : search files by last access date \n",
    "* `-size` : search files by file size\n",
    "* `-user` : search files by user they belong to"
   ]
  },
  {
   "cell_type": "markdown",
   "metadata": {},
   "source": [
    "## Getting started\n",
    "\n",
    "In this course, we will be using Ubuntu, a version of Unix which was specially designed for PCs.\n",
    "\n",
    "We will use a terminal window to type in our Unix commands. This is similar to the \"Command Prompt\" window on MS Windows systems, which allows the user to type DOS commands to manage files.\n",
    "\n",
    "On the computer, you should see a window labelled \"Terminal\", click this which will open a window which will be empty except for a `$` character at the top left. The `$` character is the Unix prompt, similar to `C:\\` in DOS. \n",
    "\n",
    "Note: the prompt will often be different on different Unix computers, for example it may be displayed as a `%` character.\n",
    "\n",
    "You can type commands directly into the terminal at the `$` prompt.\n",
    "\n",
    "To get started, open a terminal window and complete the excercises below.\n",
    "\n",
    "Before getting started, there are some general points to remember that will make your life easier:\n",
    "\n",
    "* Unix is case sensitive - typing `ls` is not the same as typing `LS`.\n",
    "* You need to put a space between a command and its argument - for example, `less myfile` will show you the contents of the file called myfile; `lessmyfile` will just give you an error!\n",
    "* Unix is not psychic! If you mis-spell the name of a command or the name of a file, it will not understand you.\n",
    "* Many of the commands are only a few letters long; this can be confusing until you start to think logically about why those letters were chosen, `ls` for list, `rm` for remove and so on.\n",
    "* Often when you have problems with Unix, it is due to a spelling mistake, or perhaps you have omitted a space."
   ]
  },
  {
   "cell_type": "markdown",
   "metadata": {},
   "source": [
    "## Exercises\n",
    "\n",
    "Many people panic when they are confronted with a Unix prompt! Don’t! All the commands you need to solve these exercises are are provided above and don't be afraid to make a mistake. If you get lost ask a demonstrator. If you are a person skilled at Unix, be patient they are only short exercises.\n",
    "\n",
    "To begin, open a terminal window and move into the Module2_Unix directory (remember use the Unix command `cd`) and then complete the exercise below.\n",
    "\n",
    "1. Use the `ls` command to show the contents of the Module2_Unix directory\n",
    "2. Move into the directory X\n",
    "3. How many files are there in directory X?\n",
    "4. What is the largest file in directory X?\n",
    "5. Copy the file X in the directory Y to directory Z\n",
    "6. Move the file A in directory B to directory C\n",
    "7. Use the `find` command to find all fastq files in the X directory, how many files did you find?\n",
    "8. Use the `find` command to find all the bed files in the X directory"
   ]
  }
 ],
 "metadata": {
  "kernelspec": {
   "display_name": "Bash",
   "language": "bash",
   "name": "bash"
  },
  "language_info": {
   "codemirror_mode": "shell",
   "file_extension": ".sh",
   "mimetype": "text/x-sh",
   "name": "bash"
  }
 },
 "nbformat": 4,
 "nbformat_minor": 0
}
