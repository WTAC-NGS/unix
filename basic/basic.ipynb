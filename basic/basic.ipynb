{
 "cells": [
  {
   "cell_type": "markdown",
   "metadata": {},
   "source": [
    "# Basic Unix\n",
    "\n",
    "## The Commandline\n",
    "\n",
    "All Unix programs may be run by typing commands at the Unix prompt $. The command line tells the computer what to do. You may subtly alter these commands by specifying certain options when typing in the command line.\n",
    "\n",
    "Typing any Unix command for example `ls`, `mv` or `cd` at the Unix prompt with the appropriate variables such as file names or directories will result in the tasks being performed on pressing the enter key.\n",
    "\n",
    "`command   options   arguments`\n",
    "\n",
    "The 'command' is separated from the options and arguments by a space. Additional options and/or arguments can be added to the command to affect the way the command works. Options usually have one dash and a letter (e.g. -h) or two dashes and a word (--help) with no space between the dash and the letter/word. Arguments are usually filenames or directories.\n",
    "\n",
    "For example:"
   ]
  },
  {
   "cell_type": "code",
   "execution_count": null,
   "metadata": {
    "collapsed": false,
    "scrolled": true
   },
   "outputs": [],
   "source": [
    "ls -l X"
   ]
  },
  {
   "cell_type": "markdown",
   "metadata": {},
   "source": [
    "The command here is `ls`, `-l` (the letter l) is the option passed to the command `ls` and the directory X is the argument passed to the command `ls`. "
   ]
  },
  {
   "cell_type": "markdown",
   "metadata": {},
   "source": [
    "Does all of the above need to go on the intro/index page?\n",
    "Then we need an intro paragraph that we will cover some of the basic unix commands for managing files and directories."
   ]
  },
  {
   "cell_type": "markdown",
   "metadata": {},
   "source": [
    "## Files and directories\n",
    "\n",
    "Directories are the Unix equivalent of folders on a PC or Mac. They are organised in a hierarchy, so directories can have sub-directories and so on. Directories are very useful for organising your work and keeping your account tidy - for example, if you have more than one project, you can organise the files for each project into different directories to keep them separate. You can think of directories as rooms in a house. You can only be in one room (directory) at a time. When you are in a room you can see everything in that room easily. To see things in other rooms, you have to go to the appropriate door and crane your head around. Unix works in a similar manner, moving from directory to directory to access files. The location or directory that you are in is referred to as the current working directory.\n",
    "\n",
    "insert image of file hirarchy\n",
    "\n",
    "If there is a file called genome.seq in the dna directory its location or full pathname can be expressed as /nfs/dna/genome.seq."
   ]
  },
  {
   "cell_type": "markdown",
   "metadata": {},
   "source": [
    "## pwd - find where you are\n",
    "\n",
    "The commmand `pwd` stands for print working directory. \n",
    "\n",
    "As described above, directories are arranged in a hierarchical structure. To determine where you are in the hierarchy you can use the `pwd` command to display the name of the current working directory. The current working directory may be thought of as the directory you are in, i.e. your current position in the file-system tree.\n",
    "\n",
    "To find out where you are use:"
   ]
  },
  {
   "cell_type": "code",
   "execution_count": null,
   "metadata": {
    "collapsed": false,
    "scrolled": true
   },
   "outputs": [],
   "source": [
    "pwd"
   ]
  },
  {
   "cell_type": "markdown",
   "metadata": {},
   "source": [
    "You will see that you are in your home directory.\n",
    "\n",
    "Remember that Unix is case sensitive, `PWD` is not the same as `pwd`."
   ]
  },
  {
   "cell_type": "markdown",
   "metadata": {},
   "source": [
    "## ls - list the contents of a directory\n",
    "\n",
    "The command `ls` stands for list.\n",
    "\n",
    "The `ls` command can be used to list the contents of a directory."
   ]
  },
  {
   "cell_type": "markdown",
   "metadata": {},
   "source": [
    "To list the contents of your current working directory use:"
   ]
  },
  {
   "cell_type": "code",
   "execution_count": null,
   "metadata": {
    "collapsed": false,
    "scrolled": true
   },
   "outputs": [],
   "source": [
    "ls"
   ]
  },
  {
   "cell_type": "markdown",
   "metadata": {},
   "source": [
    "You should see that there are 4 files in this directory."
   ]
  },
  {
   "cell_type": "markdown",
   "metadata": {},
   "source": [
    "To list the contents of a directory with extra information about the files use:"
   ]
  },
  {
   "cell_type": "code",
   "execution_count": null,
   "metadata": {
    "collapsed": false,
    "scrolled": true
   },
   "outputs": [],
   "source": [
    "ls -l"
   ]
  },
  {
   "cell_type": "markdown",
   "metadata": {},
   "source": [
    "By using the `–l` option we can change the behaviour of the `ls` command. Instead of printing out a simple list, it will print out additional information about each file. There is a space between the command `ls` and the `–l` option. There is no space between the dash and the letter l.\n",
    "\n",
    "What do each of the columns represent?"
   ]
  },
  {
   "cell_type": "markdown",
   "metadata": {},
   "source": [
    "To list all contents of a directory including hidden files and directories use:"
   ]
  },
  {
   "cell_type": "code",
   "execution_count": null,
   "metadata": {
    "collapsed": false,
    "scrolled": false
   },
   "outputs": [],
   "source": [
    "ls -al"
   ]
  },
  {
   "cell_type": "markdown",
   "metadata": {},
   "source": [
    "How many hidden files and directories are there?"
   ]
  },
  {
   "cell_type": "markdown",
   "metadata": {},
   "source": [
    "Try the same command but with the `-h` option:"
   ]
  },
  {
   "cell_type": "code",
   "execution_count": null,
   "metadata": {
    "collapsed": false,
    "scrolled": true
   },
   "outputs": [],
   "source": [
    "ls -alh"
   ]
  },
  {
   "cell_type": "markdown",
   "metadata": {},
   "source": [
    "What does the `-h` option do?"
   ]
  },
  {
   "cell_type": "markdown",
   "metadata": {},
   "source": [
    "To list the contents of the directory called Module_1_Artemis with extra information use:"
   ]
  },
  {
   "cell_type": "code",
   "execution_count": null,
   "metadata": {
    "collapsed": false,
    "scrolled": true
   },
   "outputs": [],
   "source": [
    "ls -l Module_1_Artemis"
   ]
  },
  {
   "cell_type": "markdown",
   "metadata": {},
   "source": [
    "How many files are there in this directory?"
   ]
  },
  {
   "cell_type": "markdown",
   "metadata": {},
   "source": [
    "## File permissions\n",
    "\n",
    "Every file and directory have a set of permissions which restrict what can be done with a file or directory.\n",
    "\n",
    "* Read (r): permission to read from a file/directory\n",
    "* Write (w): permission to modify a file/directory\n",
    "* Execute (x): Tells the operating system that the file contains code for the computer to run, as opposed to a file of text which you open in a text editor.\n",
    "\n",
    "The first set of permissions (characters 2,3,4) refer to what the owner of the file can do, the second set of permissions (5,6,7) refers to what members of the Linux group can do and the third set of permissions (8,9,10) refers to what everyone else can do."
   ]
  },
  {
   "cell_type": "markdown",
   "metadata": {},
   "source": [
    "## cd - change current working directory\n",
    "\n",
    "The command `cd` stands for change directory.\n",
    "\n",
    "The `cd` command will change the current working directory to another, in other words allow you to move up or down in the directory hierarchy. \n",
    "\n",
    "To move into the Unix directory use:"
   ]
  },
  {
   "cell_type": "code",
   "execution_count": null,
   "metadata": {
    "collapsed": false,
    "scrolled": true
   },
   "outputs": [],
   "source": [
    "cd Unix"
   ]
  },
  {
   "cell_type": "markdown",
   "metadata": {},
   "source": [
    "Now use the `pwd` command to check your location in the directory hierarchy and the `ls` command to list the contents of this directory."
   ]
  },
  {
   "cell_type": "code",
   "execution_count": null,
   "metadata": {
    "collapsed": false,
    "scrolled": false
   },
   "outputs": [],
   "source": [
    "pwd\n",
    "ls"
   ]
  },
  {
   "cell_type": "markdown",
   "metadata": {},
   "source": [
    "You should see that there are 4 files called:\n",
    "AL513382.embl, MAL13P1.dna, MAL13P1.tab, Malaria.fasta"
   ]
  },
  {
   "cell_type": "markdown",
   "metadata": {},
   "source": [
    "## Tips\n",
    "\n",
    "There are some short cuts for referring to directories:\n",
    "* . Current directory (one full stop)\n",
    "* .. Directory above (two full stops)\n",
    "* ~ Home directory (tilda)\n",
    "* / Root of the file system (like C:\\ in Windows)\n",
    "\n",
    "Try the following commmands, what do they do?"
   ]
  },
  {
   "cell_type": "code",
   "execution_count": null,
   "metadata": {
    "collapsed": false
   },
   "outputs": [],
   "source": [
    "ls ."
   ]
  },
  {
   "cell_type": "code",
   "execution_count": null,
   "metadata": {
    "collapsed": false
   },
   "outputs": [],
   "source": [
    "ls .."
   ]
  },
  {
   "cell_type": "code",
   "execution_count": null,
   "metadata": {
    "collapsed": false
   },
   "outputs": [],
   "source": [
    "ls ~"
   ]
  },
  {
   "cell_type": "markdown",
   "metadata": {},
   "source": [
    "## cp - copy a file\n",
    "\n",
    "The command `cp` stands for copy.\n",
    "\n",
    "The `cp` command will copy a file from one loaction to another and you will end up with two copies of the file."
   ]
  },
  {
   "cell_type": "markdown",
   "metadata": {},
   "source": [
    "To copy the file AL1324.embl to a new file called S_typhi.embl use:"
   ]
  },
  {
   "cell_type": "code",
   "execution_count": null,
   "metadata": {
    "collapsed": false
   },
   "outputs": [],
   "source": [
    "cp AL1324.embl S_typhi.embl"
   ]
  },
  {
   "cell_type": "markdown",
   "metadata": {},
   "source": [
    "Use `ls` to check the contents of the current directory for the copied file:"
   ]
  },
  {
   "cell_type": "code",
   "execution_count": null,
   "metadata": {
    "collapsed": false
   },
   "outputs": [],
   "source": [
    "ls"
   ]
  },
  {
   "cell_type": "markdown",
   "metadata": {},
   "source": [
    "## mv - move a file\n",
    "\n",
    "The `mv` command stand for move.\n",
    "\n",
    "The `mv` command will move a file from one location to another. This moves the file rather than copies it, therefore you end up with only one file rather than two. When using the command, the path or pathname is used to tell Unix where to find the file. You refer to files in other directories by using the list of hierarchical names separated by slashes. For example, the file bases in the directory genome has the path genome/bases. If no path is specified, Unix assumes that the file is in the current working directory.\n",
    "\n",
    "To move the file S_typhi.embl from the Unix directory to the current working directory use:"
   ]
  },
  {
   "cell_type": "code",
   "execution_count": null,
   "metadata": {
    "collapsed": false
   },
   "outputs": [],
   "source": [
    "mv ../Unix/S_typhi.embl ."
   ]
  },
  {
   "cell_type": "markdown",
   "metadata": {},
   "source": [
    "Use the `ls` command to check the contents of the current directory to see that S_typhi.embl has been moved."
   ]
  },
  {
   "cell_type": "code",
   "execution_count": null,
   "metadata": {
    "collapsed": false
   },
   "outputs": [],
   "source": [
    "ls"
   ]
  },
  {
   "cell_type": "markdown",
   "metadata": {},
   "source": [
    "## rm - delete a file\n",
    "\n",
    "The command `rm` stands for remove.\n",
    "\n",
    "The `rm` command will delete a file permanently from your computer so take care!\n",
    "\n",
    "To remove the old version of the S. typhi genome file, called AL513382.embl use:"
   ]
  },
  {
   "cell_type": "code",
   "execution_count": null,
   "metadata": {
    "collapsed": false
   },
   "outputs": [],
   "source": [
    "rm AL513382.embl"
   ]
  },
  {
   "cell_type": "markdown",
   "metadata": {},
   "source": [
    "Use the `ls` command to check the contents of the current directory to see that AL513382.embl has been removed."
   ]
  },
  {
   "cell_type": "code",
   "execution_count": null,
   "metadata": {
    "collapsed": false
   },
   "outputs": [],
   "source": [
    "ls"
   ]
  },
  {
   "cell_type": "markdown",
   "metadata": {},
   "source": [
    "Unfortunately there is no \"recycle bin\" on the command line to recover the file from, so you have to be careful."
   ]
  },
  {
   "cell_type": "markdown",
   "metadata": {},
   "source": [
    "## find - find a file\n",
    "\n",
    "The `find` command can be used to find files matching a given expression. It can be used to recursively search the directory tree for a specified name, seeking files and directories that match the given name."
   ]
  },
  {
   "cell_type": "markdown",
   "metadata": {},
   "source": [
    "To find all files in the current directory and all its subdirectories that end with the suffix embl:"
   ]
  },
  {
   "cell_type": "code",
   "execution_count": null,
   "metadata": {
    "collapsed": false
   },
   "outputs": [],
   "source": [
    "find . -name \"*.embl\""
   ]
  },
  {
   "cell_type": "markdown",
   "metadata": {},
   "source": [
    "How many embl files did you find?"
   ]
  },
  {
   "cell_type": "markdown",
   "metadata": {},
   "source": [
    "To find all the subdirectories contained in the current directory use:"
   ]
  },
  {
   "cell_type": "code",
   "execution_count": null,
   "metadata": {
    "collapsed": false
   },
   "outputs": [],
   "source": [
    "find . -type d"
   ]
  },
  {
   "cell_type": "markdown",
   "metadata": {},
   "source": [
    "How many subdirectories did you find?"
   ]
  },
  {
   "cell_type": "markdown",
   "metadata": {},
   "source": [
    "These are just two basic examples of the find command but it is possible to use the following find options to search in many other ways:\n",
    "* `-mtime` : search files by modifying date \n",
    "* `-atime` : search files by last access date \n",
    "* `-size` : search files by file size\n",
    "* `-user` : search files by user they belong to"
   ]
  },
  {
   "cell_type": "markdown",
   "metadata": {},
   "source": [
    "## Getting started\n",
    "\n",
    "In this course, we will be using Ubuntu, a version of Unix which was specially designed for PCs.\n",
    "\n",
    "We will use a terminal window to type in our Unix commands. This is similar to the \"Command Prompt\" window on MS Windows systems, which allows the user to type DOS commands to manage files.\n",
    "\n",
    "On the computer, you should see a window labelled \"Terminal\", click this which will open a window which will be empty except for a `$` character at the top left. The `$` character is the Unix prompt, similar to `C:\\` in DOS. \n",
    "\n",
    "Note: the prompt will often be different on different Unix computers, for example it may be displayed as a `%` character.\n",
    "\n",
    "You can type commands directly into the terminal at the `$` prompt.\n",
    "\n",
    "To get started, open a terminal window and complete the excercises below.\n",
    "\n",
    "Before getting started, there are some general points to remember that will make your life easier:\n",
    "\n",
    "* Unix is case sensitive - typing `ls` is not the same as typing `LS`.\n",
    "* You need to put a space between a command and its argument - for example, `less myfile` will show you the contents of the file called myfile; `lessmyfile` will just give you an error!\n",
    "* Unix is not psychic! If you mis-spell the name of a command or the name of a file, it will not understand you.\n",
    "* Many of the commands are only a few letters long; this can be confusing until you start to think logically about why those letters were chosen, `ls` for list, `rm` for remove and so on.\n",
    "* Often when you have problems with Unix, it is due to a spelling mistake, or perhaps you have omitted a space."
   ]
  },
  {
   "cell_type": "markdown",
   "metadata": {},
   "source": [
    "## Exercises\n",
    "\n",
    "Many people panic when they are confronted with a Unix prompt! Don’t! All the commands you need to solve these exercises are are provided above and don't be afraid to make a mistake. If you get lost ask a demonstrator. If you are a person skilled at Unix, be patient they are only short exercises.\n",
    "\n",
    "To begin, open a terminal window and move into the Module2_Unix directory (remember use the Unix command `cd`) and then complete the exercise below.\n",
    "\n",
    "1. Use the `ls` command to show the contents of the Module2_Unix directory\n",
    "2. Move into the directory X\n",
    "3. How many files are there in directory X?\n",
    "4. What is the largest file in directory X?\n",
    "5. Copy the file X in the directory Y to directory Z\n",
    "6. Move the file A in directory B to directory C\n",
    "7. Use the `find` command to find all fastq files in the X directory, how many files did you find?\n",
    "8. Use the `find` command to find all the bed files in the X directory"
   ]
  }
 ],
 "metadata": {
  "kernelspec": {
   "display_name": "Bash",
   "language": "bash",
   "name": "bash"
  },
  "language_info": {
   "codemirror_mode": "shell",
   "file_extension": ".sh",
   "mimetype": "text/x-sh",
   "name": "bash"
  }
 },
 "nbformat": 4,
 "nbformat_minor": 0
}
