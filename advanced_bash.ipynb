{
 "cells": [
  {
   "cell_type": "markdown",
   "metadata": {},
   "source": [
    "# Advanced BASH\n",
    "\n",
    "This section is additional material and provided for anyone who would like to learn more advanced bash scripting.\n",
    "\n",
    "Before you start this section change into the `Unix/advanced_bash` directory:"
   ]
  },
  {
   "cell_type": "code",
   "execution_count": null,
   "metadata": {},
   "outputs": [],
   "source": [
    "cd ../advanced_bash"
   ]
  },
  {
   "cell_type": "markdown",
   "metadata": {},
   "source": [
    "## Repeating analysis with loops\n",
    "It is common in Bioinformatics to run the same analysis on many files. Suppose we had a script that ran one type of analysis, and wanted to repeat the same analysis on 100 different files. It would be tedious, and error-prone, to write the same command 100 times. Instead we can use a loop. As an example, we will just run the Unix command `wc` on each file but instead, in reality this would be a script that runs in-depth analysis.  We can run `wc` on each of the files in the directory `loop_files/` with the following command."
   ]
  },
  {
   "cell_type": "code",
   "execution_count": null,
   "metadata": {},
   "outputs": [],
   "source": [
    "for filename in loop_files/*; do wc $filename; done"
   ]
  },
  {
   "cell_type": "markdown",
   "metadata": {},
   "source": [
    "## Getting options from the terminal and printing a help message\n",
    "Usually, we would like a script to read in options from the user, such as the name of an input file. This would mean a script can be run like this:\n",
    "\n",
    "    my_script.sh input_file\n",
    "    \n",
    "Inside the script, the parameters provided by the user are given the names `$1`, `$2`, `$3` etc (do not confuse these with column names used by `awk`!). Here is a simple example that expects the user to provide a filename and a number. The script simply prints the filename to the screen, and then the first few lines of the file (the number of lines is determined by the number given by the user)."
   ]
  },
  {
   "cell_type": "code",
   "execution_count": null,
   "metadata": {},
   "outputs": [],
   "source": [
    "cat options_example.sh"
   ]
  },
  {
   "cell_type": "code",
   "execution_count": null,
   "metadata": {},
   "outputs": [],
   "source": [
    "options_example.sh test_file 2"
   ]
  },
  {
   "cell_type": "markdown",
   "metadata": {},
   "source": [
    "The options have been used by the script, but the script itself is not very readable. It is better to use names instead of `$1` and `$2`. Here is an improved version of the script that does exactly the same as the previous script, but is more readable."
   ]
  },
  {
   "cell_type": "code",
   "execution_count": null,
   "metadata": {
    "scrolled": false
   },
   "outputs": [],
   "source": [
    "cat options_example.2.sh"
   ]
  },
  {
   "cell_type": "markdown",
   "metadata": {},
   "source": [
    "## Checking options from the user\n",
    "\n",
    "The previous scripts will have strange behaviour if the input is not as expected by the script. Many things could go wrong. For example:\n",
    "\n",
    "* The wrong number of options are given by the user\n",
    "* The input file does not exist.\n",
    "\n",
    "Try running the script with different options and see what happens.\n",
    "\n",
    "A convention with scripts is that it should output a help message if it is not run correctly. This shows anyone how the script should be run (including you!) without having to look at the code inside the script.\n",
    "\n",
    "\n",
    "A basic check for this script would be to verify that two options were supplied, and if not then print a help message. The code looks like this:\n",
    " \n",
    "    if [ $# -ne 2 ]\n",
    "    then\n",
    "            echo \"usage: options_example.3.sh filename number_of_lines\"\n",
    "            echo\n",
    "            echo \"Prints the filename, and the given first number of lines of the file\"\n",
    "            exit\n",
    "    fi\n",
    "    \n",
    "You can copy this code into the start of any of your scripts, and easily modify it to work for that script. A little explanation:\n",
    "\n",
    "* A special variable `$#` has been used, which is the number of options that were given by the user.\n",
    "* The whole block of code has the form \"`if [ $# -ne 2 ] then .... fi`\".  This only runs the code between the `then` and `fi`, if `$#` (the number of options) is not 2.\n",
    "* The line `exit` simply makes the script end, so that no more code is run."
   ]
  },
  {
   "cell_type": "code",
   "execution_count": null,
   "metadata": {},
   "outputs": [],
   "source": [
    "options_example.3.sh"
   ]
  },
  {
   "cell_type": "markdown",
   "metadata": {},
   "source": [
    "Another check is that the input file really does exist. If it does not exist, then there is no point in trying to run any more code. This can be checked with another `if ... then ... fi` block of code:\n",
    "\n",
    "    if [ ! -f $filename ]\n",
    "    \n",
    "    then\n",
    "        echo \"File '$filename' not found! Cannot continue\"\n",
    "        exit\n",
    "    fi\n",
    "    \n",
    "Putting this all together, the script now looks like this:"
   ]
  },
  {
   "cell_type": "code",
   "execution_count": null,
   "metadata": {},
   "outputs": [],
   "source": [
    "cat options_example.3.sh"
   ]
  },
  {
   "cell_type": "markdown",
   "metadata": {},
   "source": [
    "Two new features have also been introduced in this file:\n",
    "\n",
    "1. The second line is \"`set -eu`\". Without this line, if any line\n",
    "produces an error, the script will carry on regardless to the end of the script.\n",
    "Using the `-e` option, an error anywhere in the file will result in the script stopping at the line\n",
    "that produced the error, instead of continuing. In general, it is best that\n",
    "the script stops at any error.  The `-u` creates an error if you try to use a variable which doesn't exist.\n",
    "This helps to stop typos doing bad things to your analysis.\n",
    "2. There are several lines starting with a hash `#`. These lines are \"comment lines\"\n",
    "that are not run. They are used to document the code, containing explanations of\n",
    "what is happening. It is good practice to comment your scripts!\n",
    "\n",
    "The above script provides a template for writing your own scripts. The general method is:\n",
    "\n",
    "1. Tell Unix that this is a BASH script, and to stop at the first error.\n",
    "2. Check if the user ran the script correctly. If not, output a message telling the user how to run the script.\n",
    "3. Check the input looks OK (in this case, that the input file exists).\n",
    "4. Process the input.\n",
    "\n",
    "## Using variables to store output from commands\n",
    "It can be useful to run a command and put the results into a variable. Recall that we stored the input from the user in sensibly named variables:\n",
    "\n",
    "    filename=$1\n",
    "\n",
    "The part after the equals sign could actually be any command that returns some output. For example, running this in Unix\n",
    "\n",
    "    wc -l filename | awk '{print $1}'\n",
    "    \n",
    "returns the number of lines. In case you are wondering why the command includes `| awk '{print $1}'`, check what happens with and without the pipe to `awk`:\n",
    "\n"
   ]
  },
  {
   "cell_type": "code",
   "execution_count": null,
   "metadata": {},
   "outputs": [],
   "source": [
    "wc -l options_example.3.sh"
   ]
  },
  {
   "cell_type": "code",
   "execution_count": null,
   "metadata": {},
   "outputs": [],
   "source": [
    "wc -l options_example.3.sh | awk '{print $1}'"
   ]
  },
  {
   "cell_type": "markdown",
   "metadata": {},
   "source": [
    "With a small change, this can be stored in a variable and then used later."
   ]
  },
  {
   "cell_type": "code",
   "execution_count": null,
   "metadata": {},
   "outputs": [],
   "source": [
    "filename=options_example.3.sh\n",
    "line_count=$(wc -l $filename | awk '{print $1}')\n",
    "echo There are $line_count lines in the file $filename"
   ]
  },
  {
   "cell_type": "markdown",
   "metadata": {},
   "source": [
    "## Exercises\n",
    "1. Write a script that gets a filename from the user. If the file exists, it prints a nice human-readable message telling the user how many lines are in the file.\n",
    "2. Use a loop to run the script from Exercise 1 on the files in the directory `loop_files/`.\n",
    "3. Write a script that takes a GFF filename as input. Make the script produce a summary of various properties of the file. There is an example input file provided called `bash_scripts/exercise_3.gff`. Use your imagination! You could have a look back at the `awk` section of the course for inspiration. Here are some ideas you may wish to try:\n",
    "\n",
    "  * Does the file exist?\n",
    "  * How many records (ie lines) are in the file?\n",
    "  * How many genes are in the file?\n",
    "  * Is the file badly formatted in any way (eg wrong number of columns, do the coordinates look like numbers)?\n",
    "\n",
    "You can find the answers to all exercises in this tutorial [here](answers.ipynb)."
   ]
  }
 ],
 "metadata": {
  "kernelspec": {
   "display_name": "Bash",
   "language": "bash",
   "name": "bash"
  },
  "language_info": {
   "codemirror_mode": "shell",
   "file_extension": ".sh",
   "mimetype": "text/x-sh",
   "name": "bash"
  }
 },
 "nbformat": 4,
 "nbformat_minor": 1
}
