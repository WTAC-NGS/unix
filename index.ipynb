{
 "cells": [
  {
   "cell_type": "markdown",
   "metadata": {},
   "source": [
    "# Unix module\n",
    "\n",
    "## Introducing Unix\n",
    "\n",
    "Unix is the standard operating system on most large computer systems in scientific research, in the same way that Microsoft Windows is the dominant operating system on desktop PCs.\n",
    "\n",
    "Unix and MS Windows both perform the important job of managing the computer's hardware (screen, keyboard, mouse, hard disks, network connections, etc...) on your behalf. They also provide you with tools to manage your files and to run application software. They both offer a graphical user interface (desktop). These desktop interfaces look different between the operating systems, use different names for things (e.g. directory versus folder) and have different images but they mostly offer the same functionality.\n",
    "\n",
    "Unix is a powerful, secure, robust and stable operating system which allows dozens of people to run programs on the same computer at the same time. This is why it is the preferred operating system for large-scale scientific computing. It runs on all kinds of machines, from mobile phones (Android), desktop PCs... to supercomputers.\n",
    "\n",
    "\n",
    "## Why Unix?\n",
    "\n",
    "Increasingly, the output of biological research exists as in silico data, usually in the form of large text files. Unix is particularly suitable for working with such files and has several powerful and flexible commands that can be used to process and analyse this data. One advantage of learning Unix is that many of the commands can be combined in an almost unlimited fashion. So if you can learn just six Unix commands, you will be able to do a lot more than just six things.\n",
    "\n",
    "Unix contains hundreds of commands, but to conduct your analysis you will probably only need 10 or so to achieve most of what you want to do. In this tutorial we will introduce you to some basic Unix commands followed by some more advanced commands and provide examples of how they can be used in bioinformatics analyses.\n",
    "\n",
    "\n",
    "## Sections of the Unix course\n",
    "\n",
    "1. [Basic unix](basic/basic.ipynb)\n",
    "2. [Files](files/files.ipynb)\n",
    "3. [grep](grep/grep.ipynb)\n",
    "4. [awk](awk/awk.ipynb)\n",
    "5. [Bash scripts](bash_scripts/bash_scripts.ipynb)\n",
    "\n",
    "## Following the course in a terminal\n",
    "\n",
    "If you want to follow the course by typing the commands into a terminal yourself, then run the following cell in this notebook, either by pressing control and enter, or by selecting it with the mouse and then in the menu at the top of the page choosing Cell -> Run."
   ]
  },
  {
   "cell_type": "code",
   "execution_count": null,
   "metadata": {
    "collapsed": false
   },
   "outputs": [],
   "source": [
    "echo cd $PWD"
   ]
  },
  {
   "cell_type": "markdown",
   "metadata": {},
   "source": [
    "Now open a new terminal on your computer and run the command that was output by the previous cell. The command will look similar to this:\n",
    "\n",
    "    cd /home/username/Unix_course/Notebooks/Unix"
   ]
  }
 ],
 "metadata": {
  "kernelspec": {
   "display_name": "Bash",
   "language": "bash",
   "name": "bash"
  },
  "language_info": {
   "codemirror_mode": "shell",
   "file_extension": ".sh",
   "mimetype": "text/x-sh",
   "name": "bash"
  }
 },
 "nbformat": 4,
 "nbformat_minor": 0
}
