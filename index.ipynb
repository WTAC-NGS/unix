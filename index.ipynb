{
 "cells": [
  {
   "cell_type": "markdown",
   "metadata": {},
   "source": [
    "# Unix module\n",
    "\n",
    "## Introducing Unix\n",
    "\n",
    "Unix is the standard operating system on most large computer systems in scientific research, in the same way that Microsoft Windows is the dominant operating system on desktop PCs.\n",
    "\n",
    "Unix and MS Windows both perform the important job of managing the computer's hardware (screen, keyboard, mouse, hard disks, network connections, etc...) on your behalf. They also provide you with tools to manage your files and to run application software. They both offer a graphical user interface (desktop). These desktop interfaces look different between the operating systems, use different names for things (e.g. directory versus folder) and have different images but they mostly offer the same functionality.\n",
    "\n",
    "Unix is a powerful, secure, robust and stable operating system which allows dozens of people to run programs on the same computer at the same time. This is why it is the preferred operating system for large-scale scientific computing. It runs on all kinds of machines, from mobile phones (Android), desktop PCs... to supercomputers.\n",
    "\n",
    "\n",
    "## Why Unix?\n",
    "\n",
    "Increasingly, the output of biological research exists as in silico data, usually in the form of large text files. Unix is particularly suitable for working with such files and has several powerful and flexible commands that can be used to process and analyse this data. One advantage of learning Unix is that many of the commands can be combined in an almost unlimited fashion. So if you can learn just six Unix commands, you will be able to do a lot more than just six things.\n",
    "\n",
    "Unix contains hundreds of commands, but to conduct your analysis you will probably only need 10 or so to achieve most of what you want to do. In this course we will introduce you to some basic Unix commands followed by some more advanced commands and provide examples of how they can be used in bioinformatics analyses.\n",
    "\n",
    "\n",
    "## Sections of the Unix course\n",
    "\n",
    "1. [Basic unix](basic/basic.ipynb)\n",
    "2. [Files](files/files.ipynb)\n",
    "3. [grep](grep/grep.ipynb)\n",
    "4. [awk](awk/awk.ipynb)\n",
    "5. [Bash scripts](bash_scripts/bash_scripts.ipynb)\n",
    "\n",
    "\n",
    "## Following the course in a terminal \n",
    "\n",
    "To follow this course, please type all the commands you see into a terminal window. This is similar to the \"Command Prompt\" window on MS Windows systems, which allows the user to type DOS commands to manage files.\n",
    "\n",
    "To get started, select the cell below with the mouse and then either press control and enter or choose Cell -> Run in the menu at the top of the page."
   ]
  },
  {
   "cell_type": "code",
   "execution_count": null,
   "metadata": {
    "collapsed": false
   },
   "outputs": [],
   "source": [
    "echo cd $PWD"
   ]
  },
  {
   "cell_type": "markdown",
   "metadata": {},
   "source": [
    "Now open a new terminal on your computer and type the command that was output by the previous cell followed by the enter key. The command will look similar to this:\n",
    "\n",
    "    cd /home/manager/pathogen-informatics-training/Notebooks/Unix/\n",
    "    \n",
    "Now follow the instruction in the [Basic unix](basic/basic.ipynb) section."
   ]
  },
  {
   "cell_type": "markdown",
   "metadata": {},
   "source": [
    "## Cheat sheet\n",
    "\n",
    "We've also included a [cheat sheet](cheat_sheet/unix_cheat_sheet.ipynb).  It probably won't make a lot of sense now, but it might be a useful reminder of this module later in the course."
   ]
  }
 ],
 "metadata": {
  "kernelspec": {
   "display_name": "Bash",
   "language": "bash",
   "name": "bash"
  },
  "language_info": {
   "codemirror_mode": "shell",
   "file_extension": ".sh",
   "mimetype": "text/x-sh",
   "name": "bash"
  }
 },
 "nbformat": 4,
 "nbformat_minor": 0
}
