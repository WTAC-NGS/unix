{
 "cells": [
  {
   "cell_type": "markdown",
   "metadata": {},
   "source": [
    "# Unix module\n",
    "\n",
    "## Overview of Unix\n",
    "\n",
    "To be filled in\n",
    "\n",
    "\n",
    "## Sections of the Unix course\n",
    "\n",
    "1. [grep](grep/grep.ipynb)\n",
    "2. [awk](awk/awk.ipynb)\n",
    "3. [bash scripts](bash_scripts/bash_scripts.ipynb)"
   ]
  }
 ],
 "metadata": {
  "kernelspec": {
   "display_name": "Bash",
   "language": "bash",
   "name": "bash"
  },
  "language_info": {
   "codemirror_mode": "shell",
   "file_extension": ".sh",
   "mimetype": "text/x-sh",
   "name": "bash"
  }
 },
 "nbformat": 4,
 "nbformat_minor": 0
}
