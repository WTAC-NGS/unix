{
 "cells": [
  {
   "cell_type": "markdown",
   "metadata": {},
   "source": [
    "# BASH scripts\n",
    "\n",
    "So far, we have run single commands in a terminal. However, it is useful to be able to run multiple commands that process some data and produce output. These commands can be put into a file (ie a script), and run on input data. This has the advantage of reproducibility, so that the same analysis can be run on many input data sets.\n",
    "\n",
    "\n",
    "## First script\n",
    "\n",
    "It is traditional when learning a new language (in this case BASH), to write a script that says \"Hello World!\". We will do this now.\n",
    "\n",
    "First, open a terminal and make a new directory in your home called `scripts`, by typing"
   ]
  },
  {
   "cell_type": "code",
   "execution_count": null,
   "metadata": {},
   "outputs": [],
   "source": [
    "cd\n",
    "mkdir ~/scripts"
   ]
  },
  {
   "cell_type": "markdown",
   "metadata": {},
   "source": [
    "Next open a text editor, which you will use to write the script. What text editors are available will depend on your system. For example, gedit in Linux. Do not try to use a word processor, such as Word!  If you don't already have a favorite, try gedit by running the following command:"
   ]
  },
  {
   "cell_type": "code",
   "execution_count": null,
   "metadata": {},
   "outputs": [],
   "source": [
    "gedit &"
   ]
  },
  {
   "cell_type": "markdown",
   "metadata": {},
   "source": [
    "Type this into the text editor:\n",
    "\n",
    "    echo Hello World!\n",
    "\n",
    "and save this to a file called `hello.sh` in your new `scripts` directory. This script will print `Hello World!` to the screen when we run it. First, check that the script is saved in the correct place."
   ]
  },
  {
   "cell_type": "code",
   "execution_count": null,
   "metadata": {},
   "outputs": [],
   "source": [
    "cd scripts "
   ]
  },
  {
   "cell_type": "code",
   "execution_count": null,
   "metadata": {},
   "outputs": [],
   "source": [
    "ls hello.sh"
   ]
  },
  {
   "cell_type": "markdown",
   "metadata": {},
   "source": [
    "Now try to run the script. For now, we need to tell Unix that this is a BASH script and where it is:"
   ]
  },
  {
   "cell_type": "code",
   "execution_count": null,
   "metadata": {},
   "outputs": [],
   "source": [
    "bash hello.sh"
   ]
  },
  {
   "cell_type": "markdown",
   "metadata": {},
   "source": [
    "## Setting up a scripts directory\n",
    "\n",
    "It would be nice if our scripts could be run from anywhere in the filesystem, without having to tell Unix where the script is, or that it is a BASH script. This is how built-in commands work, like `cd` or `ls`.\n",
    "\n",
    "To tell Unix that the script is a BASH script, make this the first line of the script:\n",
    "\n",
    "    #!/usr/bin/env bash\n",
    "    \n",
    "and remember to save the script again. This special line at the start of the file tells Unix that the file is a bash script, so that it expects bash commands throughout the file. There is one more change to be made to the file to tell Unix that it is a program to be run (it is \"executable\"). This is done with the command `chmod`. Type this into the terminal to make the file executable:"
   ]
  },
  {
   "cell_type": "code",
   "execution_count": null,
   "metadata": {},
   "outputs": [],
   "source": [
    "chmod +x hello.sh"
   ]
  },
  {
   "cell_type": "markdown",
   "metadata": {},
   "source": [
    "Now, the script can be run, but we must still tell Unix where the script is in the filesystem. In this case, it is in the current working directory, which is called \"`./`\"."
   ]
  },
  {
   "cell_type": "code",
   "execution_count": null,
   "metadata": {},
   "outputs": [],
   "source": [
    "./hello.sh"
   ]
  },
  {
   "cell_type": "markdown",
   "metadata": {},
   "source": [
    "We need to change our setup so that Unix can find the script without us having to explicitly say where it is. Whenever a command is typed into Unix, it has a list of directories that it searches through to look for the command. We need to add the new scripts directory to this list using:"
   ]
  },
  {
   "cell_type": "code",
   "execution_count": null,
   "metadata": {},
   "outputs": [],
   "source": [
    "echo $PATH"
   ]
  },
  {
   "cell_type": "markdown",
   "metadata": {},
   "source": [
    "It returns a list of directories, which are all the places Unix will look for a command. First, check what happens if we try to run the script without telling Unix where it is:\n",
    "\n",
    "    hello.sh\n",
    "    bash: hello.sh: command not found\n",
    "    \n",
    "Unix did not find it! The command to run to add the scripts directory to `$PATH` is:"
   ]
  },
  {
   "cell_type": "code",
   "execution_count": null,
   "metadata": {},
   "outputs": [],
   "source": [
    "export PATH=$PATH:~/scripts/"
   ]
  },
  {
   "cell_type": "markdown",
   "metadata": {},
   "source": [
    "If you want this change to be permanent, ie so that Unix finds your scripts after you restart or logout and login, add that line to the end of a file called `~/.bashrc`. If you are using a Mac, then the file should instead be `~/.bash_profile`. If the file does not already exist, then create it and put that line into it.\n",
    "\n",
    "\n",
    "The following command is only here so that this notebook finds scripts correctly and the remaining examples work. **Do not type the next command into your terminal.** "
   ]
  },
  {
   "cell_type": "code",
   "execution_count": null,
   "metadata": {},
   "outputs": [],
   "source": [
    "PATH=$PATH:$PWD # do not type this into your terminal!"
   ]
  },
  {
   "cell_type": "markdown",
   "metadata": {},
   "source": [
    "Now the script works, no matter where we are in the filesystem. Unix will check the scripts directory and find the file `hello.sh`. You can be *anywhere* in your filesystem, and simply running\n",
    "\n",
    "    hello.sh\n",
    "    \n",
    "will always work. Try it now."
   ]
  },
  {
   "cell_type": "code",
   "execution_count": null,
   "metadata": {
    "scrolled": true
   },
   "outputs": [],
   "source": [
    "hello.sh"
   ]
  },
  {
   "cell_type": "markdown",
   "metadata": {},
   "source": [
    "In general, when making a new script, you can now copy and edit an existing script, or make a new one like this:\n",
    "\n",
    "    cd ~/scripts\n",
    "    touch my_new_script.sh\n",
    "    chmod +x my_new_script.sh\n",
    "\n",
    "and then open `my_new_script.sh` in a text editor."
   ]
  },
  {
   "cell_type": "markdown",
   "metadata": {},
   "source": [
    "**Congratulations** you have reached the end of the Unix tutorial! If you would like to learn more advanced bash scripting we have provided some optional material in [Advanced BASH](advanced_bash.ipynb)."
   ]
  }
 ],
 "metadata": {
  "kernelspec": {
   "display_name": "Bash",
   "language": "bash",
   "name": "bash"
  },
  "language_info": {
   "codemirror_mode": "shell",
   "file_extension": ".sh",
   "mimetype": "text/x-sh",
   "name": "bash"
  }
 },
 "nbformat": 4,
 "nbformat_minor": 1
}
